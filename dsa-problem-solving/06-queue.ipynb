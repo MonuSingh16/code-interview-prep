{
 "cells": [
  {
   "cell_type": "markdown",
   "metadata": {},
   "source": [
    "#### Queues\n",
    "\n",
    "Queues are similar to stacks, except they follow what is called a FIFO approach (First in First Out). A real world example would be a line at the bank\n",
    "\n",
    "The most common implementation of a queue is using a Linked List. The two operations that queues support are `enqueue` and `dequeue`\n",
    "\n",
    "#### Enqueue\n",
    "The enqueue operation adds elements to the tail of the queue until the size of the queue is reached. Since adding to the end of the queue requires no shifting of the elements, this operation runs in $O(1)$.\n"
   ]
  },
  {
   "cell_type": "code",
   "execution_count": null,
   "metadata": {},
   "outputs": [],
   "source": [
    "def enqueue(self, val):\n",
    "    newNode = ListNode(val)\n",
    "\n",
    "    # Queue is non-empty\n",
    "    if self.right:\n",
    "        self.right.next = newNode\n",
    "        self.right = self.right.next\n",
    "\n",
    "    # Queue is empty\n",
    "    else:\n",
    "        self.left = self.right = newNode\n"
   ]
  },
  {
   "cell_type": "markdown",
   "metadata": {},
   "source": [
    "#### Dequeue\n",
    "\n",
    "The dequeue operation removes elements from the front of the queue and returns that element. The following pseudocode and the visual demonstrate this.\n"
   ]
  },
  {
   "cell_type": "code",
   "execution_count": null,
   "metadata": {},
   "outputs": [],
   "source": [
    "def dequeue(self):\n",
    "    # Queue is empty\n",
    "    if not self.left:\n",
    "        return None\n",
    "    \n",
    "    # Remove left node and return value\n",
    "    val = self.left.val\n",
    "    self.left = self.left.next\n",
    "    if not self.left:\n",
    "        self.right = None\n",
    "    return val"
   ]
  },
  {
   "cell_type": "markdown",
   "metadata": {},
   "source": [
    "Queues could also be implemented by using dynamic arrays, however, it gets a little bit trickier if you want to maintain efficiency of enqueue and dequeue operations. With the array implementation, dequeue would take $O(n)$ time due to shifting of the elements.\n",
    "\n"
   ]
  },
  {
   "cell_type": "code",
   "execution_count": null,
   "metadata": {},
   "outputs": [],
   "source": []
  }
 ],
 "metadata": {
  "language_info": {
   "name": "python"
  }
 },
 "nbformat": 4,
 "nbformat_minor": 2
}

{
 "cells": [
  {
   "cell_type": "markdown",
   "metadata": {},
   "source": [
    "### Valid Palindrome\n",
    "\n",
    "Write a function that takes a string, s, as an input and determines whether or not it is a palindrome.\n",
    " > Note: A palindrome is a word, phrase, or sequence of characters that reads the same backward as forward.\n",
    "\n",
    "### Constraints:\n",
    "\n",
    "- $1≤ s.length ≤ 2×10^5$\n",
    "- The string s will contain English uppercase and lowercase letters, digits, and spaces.\n",
    "\n"
   ]
  },
  {
   "cell_type": "code",
   "execution_count": 2,
   "metadata": {},
   "outputs": [
    {
     "name": "stdout",
     "output_type": "stream",
     "text": [
      "Test Case # 1\n",
      "True\n",
      "----------------------------------------------------------------------------------------------------\n",
      "\n",
      "Test Case # 2\n",
      "True\n",
      "----------------------------------------------------------------------------------------------------\n",
      "\n",
      "Test Case # 3\n",
      "False\n",
      "----------------------------------------------------------------------------------------------------\n",
      "\n"
     ]
    }
   ],
   "source": [
    "def is_palindrome(s):\n",
    "    left = 0\n",
    "    right = len(s) - 1\n",
    "\n",
    "    while left <= right:\n",
    "        if s[left] != s[right]:\n",
    "            return False\n",
    "        left = left + 1\n",
    "        right = right - 1\n",
    "\n",
    "    return True\n",
    "\n",
    "def main():\n",
    "    test_cases = [\"RACECAR\", \"ABBA\", \"TART\"]\n",
    "    i = 1\n",
    "    for s in test_cases:\n",
    "        print(\"Test Case #\", i)\n",
    "        print(is_palindrome(s))\n",
    "        print(\"-\" * 100, end=\"\\n\\n\")\n",
    "        i = i + 1\n",
    "\n",
    "if __name__ == '__main__':\n",
    "    main()"
   ]
  },
  {
   "cell_type": "code",
   "execution_count": null,
   "metadata": {},
   "outputs": [],
   "source": []
  },
  {
   "cell_type": "code",
   "execution_count": null,
   "metadata": {},
   "outputs": [],
   "source": []
  }
 ],
 "metadata": {
  "kernelspec": {
   "display_name": "Python 3",
   "language": "python",
   "name": "python3"
  },
  "language_info": {
   "codemirror_mode": {
    "name": "ipython",
    "version": 3
   },
   "file_extension": ".py",
   "mimetype": "text/x-python",
   "name": "python",
   "nbconvert_exporter": "python",
   "pygments_lexer": "ipython3",
   "version": "3.11.6"
  }
 },
 "nbformat": 4,
 "nbformat_minor": 2
}

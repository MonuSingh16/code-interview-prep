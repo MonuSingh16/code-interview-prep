{
 "cells": [
  {
   "cell_type": "markdown",
   "metadata": {},
   "source": [
    "#### Recursion (One Branch)\n",
    "\n",
    "Recursion is when a function calls itself with a smaller output. So while an iterative function will make use of for loop and while loop, a recursive function achieves this by calling itself until a base case is reached\n",
    "\n",
    "> Recursive functions have two parts:\n",
    "    - The base case\n",
    "    - The function calling itself with a different input.\n",
    "    There are two types of recursion, one-branch and two-branch. Let's discuss one-branch recursion first.\n",
    "\n",
    "Recursion is best explained with an example. Let's take n factorial from math, the formula for which is: $n!=n∗(n−1)∗(n−2)∗...1.$ $n!$ is just a short way of representing the cumulative product of all numbers from $n to 1$. A shorter way of writing this would be as $n!=n∗(n−1)!$, i.e. $5! = 5∗4!$. The visual and pseudocode below demonstrate this."
   ]
  },
  {
   "cell_type": "code",
   "execution_count": 1,
   "metadata": {},
   "outputs": [],
   "source": [
    "# Recursive implementation of n! (n-factorial) calculation\n",
    "def factorial(n):\n",
    "    # Base Case: n=0 or n=1\n",
    "    if n <= 1:\n",
    "        return 1\n",
    "    \n",
    "    # Recursive case: n! = n * (n - 1)!\n",
    "    return n * factorial(n-1) "
   ]
  },
  {
   "cell_type": "markdown",
   "metadata": {},
   "source": [
    "When the code reaches the last line with the initial input of 5, we get: 5 * factorial(4), which starts executing the function again from line 1, only now with input 4, so we get 4 * factorial(3) and then 3 * factorial(2) and lastly 2 * factorial(1) after which the base case is reached\n",
    "\n",
    "But what happens when the base case is reached? When the function is called with 1 as the input, 1 is returned, and now it can be multiplied by 2, which will result in 2, which is the answer to 2!. We have only solved the first sub-problem so far. Now, we compute 3 * factorial(2), which results in 6, then 4 * factorial(3), which is24, and finally 5 * factorial(4), which is 120 - the ultimate answer to 5! The most important part is that when we trigger the base case, we move back \"up\" the recursion tree because now we have to \"piece\" together the answers to our sub-problems to get to the final solution."
   ]
  },
  {
   "cell_type": "markdown",
   "metadata": {},
   "source": [
    "In total, n calls are being made to the factorial function, making the time complexity O(n). Furthermore, the space complexity will also be in O(n). Recursion operates off of a stack, and because there are n recursive calls, there will be n stacks, which results in O(n) space."
   ]
  },
  {
   "cell_type": "code",
   "execution_count": 2,
   "metadata": {},
   "outputs": [],
   "source": [
    "n = 5\n",
    "res = 1\n",
    "while n > 1:\n",
    "    res = res * n\n",
    "    n -= 1"
   ]
  },
  {
   "cell_type": "markdown",
   "metadata": {},
   "source": [
    "#### Recursion (Two Branch)\n",
    "\n",
    "A more interesting case of recursion is the two-branch recursion. Again, let's take a mathematical example to try and explain this - the Fibonacci sequence. Generally, the formula to calculate the $nth$ fibonacci number in math is to take the $n−1$ and $n−2$ number and add them together. It is given that $F(0)=0$ and $F(1)=1$, which, in a recursive function, this would be our base case.\n",
    "\n",
    "The formula would be written like this: $fib(n)=fib(n−1)+fib(n−2)$"
   ]
  },
  {
   "cell_type": "code",
   "execution_count": 3,
   "metadata": {},
   "outputs": [],
   "source": [
    "def fibonacci(n):\n",
    "    # Base case: n=0 or n=1\n",
    "    if n <= 1:\n",
    "        return n\n",
    "    \n",
    "    # Recursive case: fib(n) = fib(n-1) + fib(n-2)\n",
    "    return fibonacci(n-1) + fibonacci(n-2)"
   ]
  },
  {
   "cell_type": "markdown",
   "metadata": {},
   "source": [
    "#### Time Complexity Evaluation\n",
    "\n",
    "Evaulating the time complexity for this is a little bit more tricky. Let's analyze the tree, and the number of nodes on each one of the levels. On the 1st level (0 indexed), there is 1, on the 2nd level, there are 2, then 4, after which we can see a pattern. Each level has the potential to hold 2x the nodes of the previous level.\n",
    "\n",
    "That only gives us half the answer. If n is the level we are currently on, this means that to get the number of nodes at any level \n",
    "n, the formula is $2^n$. Since we have to potentially traverse all the way to the nth level, and each level has twice as many nodes, we can say the function is upper bounded by $2^n$. Recall the power series concept discussed in the dynamic array chapter where the last term is the dominating term. Notice how on the last level (4) there can be at most 16 nodes. Since the last level is in $O(2^n)$, it must be the case that the entire tree is in $O(2^n)$\n",
    "\n",
    "Algorithmically speaking, even if we did have $2∗2^n$ or  $2^n - 1$ operations, it would still belong to O(2^n) because constants do not affect the bound."
   ]
  },
  {
   "cell_type": "code",
   "execution_count": 5,
   "metadata": {},
   "outputs": [
    {
     "data": {
      "text/plain": [
       "100000"
      ]
     },
     "execution_count": 5,
     "metadata": {},
     "output_type": "execute_result"
    }
   ],
   "source": [
    "N = 6\n",
    "nums = int('1' + '0' * (N-1))\n",
    "nums"
   ]
  },
  {
   "cell_type": "markdown",
   "metadata": {},
   "source": [
    "#### [LC 70. Climbing Stairs](https://leetcode.com/problems/climbing-stairs/)\n",
    "\n",
    "You are climbing a staircase. It takes n steps to reach the top.\n",
    "\n",
    "Each time you can either climb 1 or 2 steps. In how many distinct ways can you climb to the top?\n"
   ]
  },
  {
   "cell_type": "code",
   "execution_count": 29,
   "metadata": {},
   "outputs": [],
   "source": [
    "class Solution:\n",
    "    def climbStairs(self, n: int) -> int:\n",
    "        one, two = 1, 1\n",
    "\n",
    "        for i in range(n - 1):\n",
    "            temp = one\n",
    "            one = one + two\n",
    "            two = temp\n",
    "\n",
    "        return one"
   ]
  },
  {
   "cell_type": "code",
   "execution_count": 34,
   "metadata": {},
   "outputs": [],
   "source": [
    "class Solution:\n",
    "    def climbStairs(self, n: int) -> int:\n",
    "        if n == 0 or n == 1:\n",
    "            return 1\n",
    "        return self.climbStairs(n-1) + self.climbStairs(n-2)"
   ]
  },
  {
   "cell_type": "code",
   "execution_count": 35,
   "metadata": {},
   "outputs": [],
   "source": [
    "class Solution:\n",
    "    def climbStairs(self, n: int) -> int:\n",
    "        memo = {}\n",
    "        return self.helper(n, memo)\n",
    "    \n",
    "    def helper(self, n: int, memo: dict[int, int]) -> int:\n",
    "        if n == 0 or n == 1:\n",
    "            return 1\n",
    "        if n not in memo:\n",
    "            memo[n] = self.helper(n-1, memo) + self.helper(n-2, memo)\n",
    "        return memo[n]"
   ]
  },
  {
   "cell_type": "code",
   "execution_count": 36,
   "metadata": {},
   "outputs": [],
   "source": [
    "class Solution:\n",
    "    def climbStairs(self, n: int) -> int:\n",
    "        if n == 0 or n == 1:\n",
    "            return 1\n",
    "\n",
    "        dp = [0] * (n+1)\n",
    "        dp[0] = dp[1] = 1\n",
    "        \n",
    "        for i in range(2, n+1):\n",
    "            dp[i] = dp[i-1] + dp[i-2]\n",
    "        return dp[n]"
   ]
  },
  {
   "cell_type": "code",
   "execution_count": 37,
   "metadata": {},
   "outputs": [],
   "source": [
    "class Solution:\n",
    "    def climbStairs(self, n: int) -> int:\n",
    "        if n == 0 or n == 1:\n",
    "            return 1\n",
    "        prev, curr = 1, 1\n",
    "        for i in range(2, n+1):\n",
    "            temp = curr\n",
    "            curr = prev + curr\n",
    "            prev = temp\n",
    "        return curr"
   ]
  },
  {
   "cell_type": "code",
   "execution_count": null,
   "metadata": {},
   "outputs": [],
   "source": []
  },
  {
   "cell_type": "code",
   "execution_count": null,
   "metadata": {},
   "outputs": [],
   "source": []
  }
 ],
 "metadata": {
  "kernelspec": {
   "display_name": "Python 3",
   "language": "python",
   "name": "python3"
  },
  "language_info": {
   "codemirror_mode": {
    "name": "ipython",
    "version": 3
   },
   "file_extension": ".py",
   "mimetype": "text/x-python",
   "name": "python",
   "nbconvert_exporter": "python",
   "pygments_lexer": "ipython3",
   "version": "3.11.6"
  }
 },
 "nbformat": 4,
 "nbformat_minor": 2
}

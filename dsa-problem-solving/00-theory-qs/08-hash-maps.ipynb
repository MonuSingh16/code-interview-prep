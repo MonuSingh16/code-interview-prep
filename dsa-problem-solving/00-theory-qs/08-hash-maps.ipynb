{
 "cells": [
  {
   "cell_type": "markdown",
   "metadata": {},
   "source": [
    "### Hash Maps \n"
   ]
  },
  {
   "cell_type": "code",
   "execution_count": 2,
   "metadata": {},
   "outputs": [
    {
     "name": "stdout",
     "output_type": "stream",
     "text": [
      "{'alice': 1, 'brad': 2, 'collin': 1, 'dylan': 1, 'kim': 1}\n"
     ]
    }
   ],
   "source": [
    "names = [\"alice\", \"brad\", \"collin\", \"brad\", \"dylan\", \"kim\"]\n",
    "\n",
    "countMap = {}\n",
    "for name in names:\n",
    "    if name not in countMap:\n",
    "        countMap[name] = 1\n",
    "    else:\n",
    "        countMap[name] += 1\n",
    "print(countMap)"
   ]
  },
  {
   "cell_type": "code",
   "execution_count": null,
   "metadata": {},
   "outputs": [],
   "source": []
  }
 ],
 "metadata": {
  "kernelspec": {
   "display_name": "Python 3",
   "language": "python",
   "name": "python3"
  },
  "language_info": {
   "codemirror_mode": {
    "name": "ipython",
    "version": 3
   },
   "file_extension": ".py",
   "mimetype": "text/x-python",
   "name": "python",
   "nbconvert_exporter": "python",
   "pygments_lexer": "ipython3",
   "version": "3.11.6"
  }
 },
 "nbformat": 4,
 "nbformat_minor": 2
}

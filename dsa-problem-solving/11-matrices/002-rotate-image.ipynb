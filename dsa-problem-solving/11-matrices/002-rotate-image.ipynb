{
 "cells": [
  {
   "cell_type": "markdown",
   "metadata": {},
   "source": [
    "### Statement\n",
    "\n",
    "Given an n×n matrix, rotate the matrix 90 degrees clockwise. The performed rotation should be in place, i.e., the given matrix is modified directly without allocating another matrix\n",
    "\n",
    "### Solution\n",
    "\n",
    "1. We run a loop where row ranges from `0` to `n // 2`.\n",
    "    1. Within this loop, we run a nested loop where col ranges from `row` to `n - row - 1`. These loops traverse the groups of four cells in the matrix. In this nested loop, we perform three swaps:\n",
    "        1. The value of the top-left cell is swapped with the value of the top-right cell.\n",
    "        2. The value of the top-left cell is swapped with the value of the bottom-right cell.\n",
    "        3. The value of the top-left cell is swapped with the value of the bottom-left cell.\n",
    "    2. The current group of four cells has been rotated by 90 degrees. We now move to the next iteration of the outer loop to rotate the next group.\n",
    "2. We repeat the process above until the whole matrix has been rotated\n",
    "\n",
    "### Time and Space Complexity\n",
    "\n",
    "Time - O(n^2), Space O(1), Since each cell is read and written once"
   ]
  },
  {
   "cell_type": "code",
   "execution_count": 2,
   "metadata": {},
   "outputs": [
    {
     "data": {
      "text/plain": [
       "2"
      ]
     },
     "execution_count": 2,
     "metadata": {},
     "output_type": "execute_result"
    }
   ],
   "source": [
    "4 // 2"
   ]
  },
  {
   "cell_type": "code",
   "execution_count": null,
   "metadata": {},
   "outputs": [],
   "source": []
  },
  {
   "cell_type": "code",
   "execution_count": null,
   "metadata": {},
   "outputs": [],
   "source": []
  }
 ],
 "metadata": {
  "kernelspec": {
   "display_name": "Python 3",
   "language": "python",
   "name": "python3"
  },
  "language_info": {
   "codemirror_mode": {
    "name": "ipython",
    "version": 3
   },
   "file_extension": ".py",
   "mimetype": "text/x-python",
   "name": "python",
   "nbconvert_exporter": "python",
   "pygments_lexer": "ipython3",
   "version": "3.11.6"
  }
 },
 "nbformat": 4,
 "nbformat_minor": 2
}

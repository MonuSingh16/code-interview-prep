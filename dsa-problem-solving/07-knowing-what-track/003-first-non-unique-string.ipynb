{
 "cells": [
  {
   "cell_type": "markdown",
   "metadata": {},
   "source": [
    "### Statement\n",
    "\n",
    "For a given string of characters, s, your task is to find the first non-repeating character and return its index. Return −1. if there’s no unique character in the given string.\n",
    "\n",
    "### Approach\n",
    "\n",
    "The algorithm proceeds through the following steps:\n",
    "1. Create a hash map and start a loop to traverse over the given input string.\n",
    "2. At each iteration, we check if the current character is present in the hash map as a key.\n",
    "    1. If the key exists, we increment the value corresponding to this key character by 1\n",
    "    2. Otherwise, add this new key-value pair in the hash map and set its value to 1\n",
    "3. Traverse over the input string to find the character in the hash map whose value equals 1\n",
    "    1. If it exists, return the index of this character in the string. Otherwise, return −1\n",
    "\n",
    "### Time and Space Complexity\n",
    "\n",
    "The cost of traversing the length of the input string twice is O(2n), which can be simplified to O(n). The space complexity of the algorithm above is O(1) because, at any time, a total of 26 keys will be stored in the hash map. This makes it a constant space used to store the frequency of the characters’ occurrence."
   ]
  },
  {
   "cell_type": "code",
   "execution_count": null,
   "metadata": {},
   "outputs": [],
   "source": []
  },
  {
   "cell_type": "code",
   "execution_count": null,
   "metadata": {},
   "outputs": [],
   "source": []
  },
  {
   "cell_type": "code",
   "execution_count": null,
   "metadata": {},
   "outputs": [],
   "source": []
  }
 ],
 "metadata": {
  "language_info": {
   "name": "python"
  }
 },
 "nbformat": 4,
 "nbformat_minor": 2
}

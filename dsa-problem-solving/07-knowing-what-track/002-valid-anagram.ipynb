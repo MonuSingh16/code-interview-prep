{
 "cells": [
  {
   "cell_type": "markdown",
   "metadata": {},
   "source": [
    "### Statement\n",
    "\n",
    "Given two strings, str1 and str2, check whether str2 is an anagram of str1.\n",
    "\n",
    "An anagram is a word or phrase created by rearranging the letters of another word or phrase while utilizing each of the original letters exactly once\n",
    "\n",
    "### Naive Approach\n",
    "\n",
    "A naive approach to solve this problem is to check whether the strings str1 and str2 are of equal length. If the length of both the strings is different, then str2 is not an anagram of str1. If str1 and str2 are of equal length, sort the characters in both strings. After sorting, iterate over the characters in both strings and check whether they are identical at each position. If all the characters are identical, return TRUE. Otherwise, return FALSE.\n",
    "\n",
    "The time complexity of this approach is O(nlogn) because of the sorting of the strings, where n is the length of the strings. The space complexity of this approach is O(1) because we are not using any additional memory\n",
    "\n",
    "### Solution Summary \n",
    "\n",
    "1. Check whether the lengths of the strings are equal. If not, return FALSE.\n",
    "\n",
    "2. Initialize a hash map to store the characters as keys and the count of the respective character as its corresponding value.\n",
    "\n",
    "3. Iterate over the characters in string str1, and increment the count of each character.\n",
    "\n",
    "4. Iterate over the characters in string str2, and decrement the count of each character.\n",
    "\n",
    "5. If the count of any characters is not zero, return FALSE. Otherwise, return TRUE.\n",
    "\n",
    "### Time and Space Complexity \n",
    "\n",
    "The time complexity of this solution is O(n), where n is the length of the strings. The space complexity of this solution is O(1)because constant space has been used to store the count of the characters."
   ]
  },
  {
   "cell_type": "code",
   "execution_count": null,
   "metadata": {},
   "outputs": [],
   "source": []
  },
  {
   "cell_type": "code",
   "execution_count": null,
   "metadata": {},
   "outputs": [],
   "source": []
  },
  {
   "cell_type": "code",
   "execution_count": null,
   "metadata": {},
   "outputs": [],
   "source": []
  },
  {
   "cell_type": "code",
   "execution_count": null,
   "metadata": {},
   "outputs": [],
   "source": []
  }
 ],
 "metadata": {
  "language_info": {
   "name": "python"
  }
 },
 "nbformat": 4,
 "nbformat_minor": 2
}

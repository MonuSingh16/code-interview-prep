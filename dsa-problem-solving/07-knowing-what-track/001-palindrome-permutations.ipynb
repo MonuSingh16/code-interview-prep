{
 "cells": [
  {
   "cell_type": "markdown",
   "metadata": {},
   "source": [
    "### Statement\n",
    "\n",
    "For a given string, st, find whether or not a permutation of this string is a palindrome. You should return TRUE if such a permutation is possible and FALSE if it isn’t possible.\n",
    "\n",
    "### Naive Approach\n",
    "\n",
    "The naive solution is to first compute all possible permutations of a given string and then iterate over each permutation to see if it’s a palindrome. We can use two pointers to traverse the computed permutation from the beginning and the end simultaneously, comparing each character at every step. If the two pointers point to the same character until they cross each other, the string is a palindrome.\n",
    "\n",
    "The number of possible permutations for a string of length n!, t requires iterating through the n characters to construct each permutation. Therefore, it will take O(n! x n). Then, for each permutation, we need to check whether it is a palindrome. Checking this condition requires iterating through the permutation once, which takes O(n) times. Therefore, the overall time complexity of this naive approach is O(n! x n x n). Space Complexity is O(n!) because we need to store all the permutations.\n",
    "\n",
    "### Optimized Approach\n",
    "\n",
    "In a palindrome of even length, all the characters occur an even number of times. For example, in the palindrome “aaaabbaaaa”, “a” occurs four times and “b” occurs twice.\n",
    "\n",
    "In a palindrome of odd length, the character in the middle of the string appears once, and all the others occur an even number of times. For example, in the palindrome “aaabaaa”, “a” occurs six times and “b” occurs once.\n",
    "\n",
    "The observations above are true for all the permutations of a palindrome. For example, “aaaaaaaabb” is a permutation of “aaaabbaaaa” in which “a” still occurs four times and “b” occurs twice.\n",
    "\n",
    "So, to decide whether or not a given string has a permutation that is a palindrome, all we need to do is count the number of times each character appears in it and then check how many characters appear an odd number of times\n",
    "\n",
    "1. If no characters appear an odd number of times, then the string is of even length and has a permutation that is a palindrome.\n",
    "2. If only one character appears an odd number of times, then the string is of odd length and has a permutation that is a palindrome.\n",
    "3. If more than one character appears an odd number of times, then the string does not have a permutation that is a palindrome.\n",
    "\n",
    "### Solution Summary \n",
    "\n",
    "1. Populate a hash map with string characters and their frequencies.\n",
    "2. Count the number of characters with an odd frequency.\n",
    "3. If the count of characters with an odd frequency exceeds 1, return FALSE. Otherwise, return TRUE.\n",
    "\n",
    "### Space and Time Complexity\n",
    "1. O(n) - As we iterate over n character, Looking up in hashtable is O(1), Worst case is O(k), where k is number of element in hashmap, there could be 26 distinct letter, Hence O(n x K) = O(n)\n",
    "\n",
    "The hash map can grow up to n if all the characters in the string are distinct. However, the number of distinct characters is bounded and so is the space complexity. So, the space complexity is O(1)"
   ]
  },
  {
   "cell_type": "code",
   "execution_count": null,
   "metadata": {},
   "outputs": [],
   "source": []
  },
  {
   "cell_type": "code",
   "execution_count": null,
   "metadata": {},
   "outputs": [],
   "source": []
  },
  {
   "cell_type": "code",
   "execution_count": null,
   "metadata": {},
   "outputs": [],
   "source": []
  }
 ],
 "metadata": {
  "language_info": {
   "name": "python"
  }
 },
 "nbformat": 4,
 "nbformat_minor": 2
}

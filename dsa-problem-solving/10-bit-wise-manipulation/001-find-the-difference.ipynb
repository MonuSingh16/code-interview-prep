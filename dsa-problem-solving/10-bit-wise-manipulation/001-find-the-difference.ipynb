{
 "cells": [
  {
   "cell_type": "markdown",
   "metadata": {},
   "source": [
    "### Given two strings, str1 and str2, find the index of the extra character that is present in only one of the strings.\n",
    "\n",
    "Note: If multiple instances of the extra character exist, return the index of the first occurrence of the character in the longer string.\n",
    "\n",
    "### Naive Approach\n",
    "\n",
    "The naive approach is to first sort both the strings. Then loop over the longer string and compare both strings, character by character. Finally, when one extra character is found in the longer string which does not match with the character at the corresponding index in the other string, we break out of the loop and return the index where the comparison failed.\n",
    "\n",
    "The time complexity of this solution would be O(nlogn + n), that is O(nlogn) is the cost of sorting one of the strings\n",
    "The sapce complexity would be O(1)\n",
    "\n",
    "### Optimized Approach\n",
    "\n",
    "We use the bitwise XOR operation to identify the extra character from one of the strings and return the index of that character\n",
    "\n",
    "1. Initialize a variable, result, with 0 to store the XOR result.\n",
    "2. Find the lengths of both strings.\n",
    "3. Iterate over the characters of str1, and for each character, do the following operations:\n",
    "\n",
    "    - Compute the ASCII value of the character.\n",
    "    - Perform a bitwise XOR operation between the current value of result and the ASCII value.\n",
    "    - Store the result of the bitwise XOR operation back in result.\n",
    "\n",
    "4. Now, iterate over the characters of str2 and repeat the operations performed in step 3 for each character in str2\n",
    "5. After iterating over both strings, the result variable will correspond to the ASCII value of the extra character\n",
    "6. Find and return the index of the extra character from the string with a greater length\n",
    "\n",
    "This technique works because XOR returns 0 if the bits are the same (both or both 1) and 1 if the bits differ (one is 0, and the other is 1). For example, 111 XOR 111 returns 000, and  101 XOR 010 returns 111. \n",
    "\n",
    "Keeping this property in mind, when we traverse the str2, the common characters between the str1 and str2 cancel out, leaving only the extra character in the result variable.\n",
    "\n",
    "\n",
    "To find the index of this extra character, we check the length of both strings. Since the extra character is present in the longest string, we return the index of that extra character from the longest string. `str1.index((chr)(result))`\n",
    "\n",
    "### Time Complexity\n",
    "\n",
    "The time complexity of the solution is O(n). Space Complexity is O(1)"
   ]
  },
  {
   "cell_type": "code",
   "execution_count": null,
   "metadata": {},
   "outputs": [],
   "source": []
  },
  {
   "cell_type": "code",
   "execution_count": null,
   "metadata": {},
   "outputs": [],
   "source": []
  },
  {
   "cell_type": "code",
   "execution_count": null,
   "metadata": {},
   "outputs": [],
   "source": []
  },
  {
   "cell_type": "code",
   "execution_count": null,
   "metadata": {},
   "outputs": [],
   "source": []
  },
  {
   "cell_type": "code",
   "execution_count": null,
   "metadata": {},
   "outputs": [],
   "source": []
  },
  {
   "cell_type": "code",
   "execution_count": null,
   "metadata": {},
   "outputs": [],
   "source": []
  },
  {
   "cell_type": "code",
   "execution_count": null,
   "metadata": {},
   "outputs": [],
   "source": [
    "\n",
    "\n",
    "\n",
    "\n"
   ]
  }
 ],
 "metadata": {
  "kernelspec": {
   "display_name": "Python 3",
   "language": "python",
   "name": "python3"
  },
  "language_info": {
   "codemirror_mode": {
    "name": "ipython",
    "version": 3
   },
   "file_extension": ".py",
   "mimetype": "text/x-python",
   "name": "python",
   "nbconvert_exporter": "python",
   "pygments_lexer": "ipython3",
   "version": "3.11.6"
  }
 },
 "nbformat": 4,
 "nbformat_minor": 2
}

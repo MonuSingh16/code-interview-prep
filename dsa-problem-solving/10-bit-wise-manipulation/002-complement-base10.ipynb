{
 "cells": [
  {
   "cell_type": "markdown",
   "metadata": {},
   "source": [
    "### Statement\n",
    "\n",
    "For any n positive number in base 10, return the complement of its binary representation as an integer in base 10.\n",
    "\n",
    "### Naive Approach\n",
    "\n",
    "1. Convert the integer to its binary value.\n",
    "2. Once we have the binary value, we can use a loop to incrementally convert each 1 to 0 and each 0 to 1\n",
    "3. Now that we have the complemented binary number, we can convert it to its respective base 10 value.\n",
    "\n",
    "It can take upto log(n)+ 1 iterations where this is the length of the binary value of base 10 number. SO time complexity of this is O(log n), Space Complexity is O(log n)\n",
    "\n",
    "### Optimized Approach\n",
    "\n",
    "The XOR (exclusive OR) operation is a binary operation that results in true (or 1) only when the inputs are different and false (or 0) if the inputs are the same. By taking the bitwise XOR of the binary value of the number with an all **1-bit bitmask**, each of the bits in the binary value will be flipped, resulting in the complement of the number.\n",
    "\n",
    "1. Calculate the number of bits required to store a certain integer. We can get this by rounding down log n and adding 1.\n",
    "2. Create an all 1-bit bitmask against the number of bits of the input value. For example, if we need 4 bits to represent an integer, all its set bits will be 1111. The decimal value of 1111 = 2^3 + 2^2 + 2^1 + 2^0, which is equal to The decimal value of 1111 2^bits - 1 = 2^4 - 1\n",
    "3. Flip all occurrences of 1s to 0s and 0s to 1s by computing the XOR operation between the two numbers\n",
    "\n",
    "### Time and Space Complexity \n",
    "To take the complement, we first calculate the number of bits required for the binary representation of the given integer and then take XOR, which are constant time operations. O(1). Space Complexity is O(1) because at any time we have a decimal number to have it converted into its complement."
   ]
  },
  {
   "cell_type": "code",
   "execution_count": null,
   "metadata": {},
   "outputs": [],
   "source": []
  },
  {
   "cell_type": "code",
   "execution_count": null,
   "metadata": {},
   "outputs": [],
   "source": []
  },
  {
   "cell_type": "code",
   "execution_count": null,
   "metadata": {},
   "outputs": [],
   "source": []
  },
  {
   "cell_type": "code",
   "execution_count": null,
   "metadata": {},
   "outputs": [],
   "source": []
  }
 ],
 "metadata": {
  "language_info": {
   "name": "python"
  }
 },
 "nbformat": 4,
 "nbformat_minor": 2
}

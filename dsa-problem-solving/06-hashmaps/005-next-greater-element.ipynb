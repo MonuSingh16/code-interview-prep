{
 "cells": [
  {
   "cell_type": "markdown",
   "metadata": {},
   "source": [
    "### Statement\n",
    "\n",
    "Given the two distinct integer arrays, nums1 and nums2, where nums1 is a subset of nums2, find all the next greater elements for nums1 values in the corresponding places of nums2.\n",
    "\n",
    "In general, the next greater element of an element, x, in an array is the first greater element present on the right side of x in the same array. However, in the context of this problem, for each element x in nums1, find the next greater element present on the right side of x in nums2 and store it in the ans array. If there is no such element, store −1 for this number. The ans array should be of the same length as nums1, and the order of the elements in the ans array should correspond to the order of the elements in nums1.\n",
    "\n",
    "Return the ans array after finding the next greater elements.\n",
    "\n",
    "### Naive Approach\n",
    "\n",
    "The naive approach is to select each element of nums1 and search for its occurrence in nums2. If the element is found, we look for the occurrence of its next greater element in nums2 linearly. If the next greater element is obtained, we store it in the ans array in the corresponding place to the element in nums1. Otherwise, we store −1 in the ans array for that element.\n",
    "\n",
    "The overall time complexity of the algorithm becomes O(n1×n2), because we’re searching for each element of the nums1 array in the nums2 array. The space complexity of this algorithm is O(1).\n",
    "\n",
    "### Optimized Approach\n",
    "\n",
    "An optimized approach to solve this problem is using a hash map and a stack. A hash map is used to store the elements in nums2 as keys and their next greater elements as the respective values.\n",
    "\n",
    "1. Iterate over each element of nums2, and if the stack is not empty, compare it with the top element of the stack.\n",
    "\n",
    "    - If the current element of nums2 is greater than the top element of the stack, pop the top element from the stack and put a key-value pair in the hash map with the popped element as the key and the current element of nums2 as the value.\n",
    "\n",
    "    - Repeat the step above until either the stack becomes empty or the current element of nums2 is not greater than the top element of the stack.\n",
    "\n",
    "2. After each iteration over nums2, push the current element of nums2 onto the stack.\n",
    "3. After processing all the elements of nums2, check if any elements are still remaining in the stack. If they are, pop them and put key-value pairs in the hash map with the remaining elements as the keys and −1  as their respective values\n",
    "4. Finally, create an ans array with the same length as nums1 and populate it with the values from the hash map that correspond to the keys in nums1.\n",
    "5. Return the ans array containing the next greater element for each element in nums1.\n",
    "\n",
    "### Solution Summary\n",
    "\n",
    "1. Create an empty stack and an empty hash map.\n",
    "\n",
    "2. Iterate over nums2, and for each element, compare it with the top element of the stack.\n",
    "\n",
    "3. If the current element of nums2 is greater than the top element, pop the top element and put a key-value pair in the hash map with the popped element as the key and the current element of nums2 as the value.\n",
    "\n",
    "4. Push the current element onto the stack.\n",
    "\n",
    "5. Repeat this process until we have iterated over all elements in nums2.\n",
    "\n",
    "6. Finally, iterate over nums1, and for each element, append its corresponding value from the hash map to a new array, ans.\n",
    "\n",
    "7. Return the ans array as the final result.\n",
    "\n",
    "### Time & Space Complexity -\n",
    "The for loop iterating over the elements of nums2 take O(n), where n is length of num2. Each stack’s n element is pushed and popped exactly once, taking O(n) time. he for loop that populates the output array ans with values from the hash map takes O(m), m is length of num1. So overall complexity O(n + n + m). Since nums1 will always be a subset of nums2, therefore O(n).\n",
    "\n",
    "Space - O(n). The stack can contain a maximum of n elements, which is the length of nums2\n"
   ]
  },
  {
   "cell_type": "code",
   "execution_count": null,
   "metadata": {},
   "outputs": [],
   "source": []
  },
  {
   "cell_type": "code",
   "execution_count": null,
   "metadata": {},
   "outputs": [],
   "source": []
  }
 ],
 "metadata": {
  "language_info": {
   "name": "python"
  }
 },
 "nbformat": 4,
 "nbformat_minor": 2
}

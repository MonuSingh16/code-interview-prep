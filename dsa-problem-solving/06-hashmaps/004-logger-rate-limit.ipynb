{
 "cells": [
  {
   "cell_type": "markdown",
   "metadata": {},
   "source": [
    "### Statement \n",
    "\n",
    "For the given stream of message requests and their timestamps as input, you must implement a logger rate limiter system that decides whether the current message request is displayed. The decision depends on whether the same message has already been displayed in the last S seconds. If yes, then the decision is FALSE, as this message is considered a duplicate. Otherwise, the decision is TRUE.\n",
    "\n",
    "### Optimized Approach\n",
    "\n",
    "We can use all incoming messages as keys and their respective time limits as values. This will help us eliminate duplicates and respect the time limit of S seconds as well.\n",
    "\n",
    "1. Initialize a hash map.\n",
    "\n",
    "2. When a request arrives, check if it’s a new request (the message is not among the keys stored in the hash map) or a repeated request (an entry for this message already exists in the hash map). If it’s a new request, accept it and add it to the hash map.\n",
    "\n",
    "3. If it’s a repeated request, compare the difference between the timestamp of the incoming request and the timestamp of the previous request with the same message. If this difference is greater than the time limit, S, accept it and update the timestamp for that specific message in the hash map. Otherwise, reject it.\n",
    "\n",
    "### Summary\n",
    "\n",
    "1. After initializing a hash map, whenever a request arrives, we check whether it’s a new request or a repeated request after the assigned time limit\n",
    "\n",
    "2. If the request meets either of the conditions mentioned in the above step, we accept and update the entry associated with that specific request in the hash map. Otherwise, reject the request and return the final decision.\n",
    "\n",
    "### Time & Space Complexity - \n",
    "O(1) - decision function check if request already exist and for how long, O(n), where n is the no of incoming request that we store"
   ]
  },
  {
   "cell_type": "code",
   "execution_count": null,
   "metadata": {},
   "outputs": [],
   "source": []
  },
  {
   "cell_type": "code",
   "execution_count": null,
   "metadata": {},
   "outputs": [],
   "source": []
  },
  {
   "cell_type": "code",
   "execution_count": null,
   "metadata": {},
   "outputs": [],
   "source": []
  },
  {
   "cell_type": "code",
   "execution_count": null,
   "metadata": {},
   "outputs": [],
   "source": []
  }
 ],
 "metadata": {
  "language_info": {
   "name": "python"
  }
 },
 "nbformat": 4,
 "nbformat_minor": 2
}

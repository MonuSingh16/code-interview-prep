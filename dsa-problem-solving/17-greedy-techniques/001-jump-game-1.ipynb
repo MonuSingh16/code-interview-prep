{
 "cells": [
  {
   "cell_type": "markdown",
   "metadata": {},
   "source": [
    "### Statement\n",
    "\n",
    "In a single-player jump game, the player starts at one end of a series of squares, with the goal of reaching the last square.\n",
    "At each turn, the player can take up to s steps towards the last square, where s is the value of the current square.\n",
    "\n",
    "For example, if the value of the current square is 3, the player can take either 3 steps, or 2 steps, or 1 step in the direction of the last square. The player cannot move in the opposite direction, that is, away from the last square.\n",
    "\n",
    "You have been tasked with writing a function to validate whether a player can win a given game or not.\n",
    "\n",
    "You’ve been provided with the nums integer array, representing the series of squares. The player starts at the first index and, following the rules of the game, tries to reach the last index.\n",
    "\n",
    "If the player can reach the last index, your function returns TRUE; otherwise, it returns FALSE.\n",
    "\n",
    "### Solution \n"
   ]
  },
  {
   "cell_type": "code",
   "execution_count": null,
   "metadata": {},
   "outputs": [],
   "source": []
  },
  {
   "cell_type": "code",
   "execution_count": null,
   "metadata": {},
   "outputs": [],
   "source": []
  },
  {
   "cell_type": "code",
   "execution_count": null,
   "metadata": {},
   "outputs": [],
   "source": []
  }
 ],
 "metadata": {
  "language_info": {
   "name": "python"
  }
 },
 "nbformat": 4,
 "nbformat_minor": 2
}

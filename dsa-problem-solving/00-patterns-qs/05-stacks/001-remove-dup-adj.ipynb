{
 "cells": [
  {
   "cell_type": "markdown",
   "metadata": {},
   "source": [
    "### Statement\n",
    "You are given a string consisting of lowercase English letters. Repeatedly remove adjacent duplicate letters, one pair at a time. Both members of a pair of adjacent duplicate letters need to be removed\n",
    "\n",
    "### Approach\n",
    "\n",
    "The naive approach is to generate a set of all possible adjacent duplicates in a string of small English alphabets, that is, {\"aa\", \"bb\", \"cc\", \"dd\", ...}. Traverse over the string to see if such duplicates are present. We’ll use nested loops to check this condition. If duplicate characters are found, we’ll remove the adjacent duplicates from the input string. For example, in the \"abaac\" string, we’ll remove \"aa\" from the string, which results in \"abc\".\n",
    "\n",
    "### Optimal Approach\n",
    "\n",
    "We’ll initialize a stack first. Then, we’ll iterate the complete string from left to right, and for every character, we’ll check the following:\n",
    "\n",
    "1. If the stack is empty, we’ll push the character onto the stack.\n",
    "2. If the stack is not empty, we’ll perform the following tasks:\n",
    "    - If the string’s character is different from the stack’s top character, we’ll push the string’s character onto the stack because we did not find the adjacent duplicate.\n",
    "    - If the string’s character is the same as the stack’s top character, it means that we found the adjacent duplicate characters. We’ll pop that character from the stack and move to the next character in the string.\n",
    "3. After the entire string has been traversed, the remaining characters in the stack will be our result. We’ll form a string from those characters and return it.\n",
    "\n",
    "For each character, we’ll perform O(1) operations. Therefore, the time complexity of this solution is O(n).\n",
    "\n",
    "O(n) in the worst-case scenario when the stack stores all the characters."
   ]
  },
  {
   "cell_type": "code",
   "execution_count": null,
   "metadata": {},
   "outputs": [],
   "source": [
    "def remove_duplicates(s:str):\n",
    "    \n",
    "    return \"\"\n"
   ]
  },
  {
   "cell_type": "code",
   "execution_count": null,
   "metadata": {},
   "outputs": [],
   "source": []
  }
 ],
 "metadata": {
  "language_info": {
   "name": "python"
  }
 },
 "nbformat": 4,
 "nbformat_minor": 2
}

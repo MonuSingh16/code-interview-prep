{
 "cells": [
  {
   "cell_type": "markdown",
   "metadata": {},
   "source": [
    "### Statement\n",
    "\n",
    "Given an m number of sorted lists in ascending order and an integer, k, find the kth smallest number among all the given lists. Although there can be repeating values in the lists, each element is considered unique and, therefore, contributes to calculating the kth smallest number\n",
    "\n",
    "If k is greater than the total number of elements in the input lists, return the greatest element from all the lists, and if there are no elements in the input lists, return 0.    \n",
    "\n",
    "### Solution\n",
    "\n",
    "Here’s how we implement our algorithm using a min-heap to find the k th smallest element in m sorted lists:\n",
    "\n",
    "1. Push the first element of each list in the min-heap along with the index of the list and the index of the element in the list.\n",
    "2. Pop the top element of the min-heap.\n",
    "3. If the popped element has the next element in its list, push the next element of this list in the min-heap.\n",
    "4. Repeat steps 2 and 3 until there are elements in the min-heap or we’ve removed k elements from the heap.\n",
    "5. The last element popped from the min-heap during this process is the required kth  smallest element in the m sorted lists."
   ]
  },
  {
   "cell_type": "code",
   "execution_count": null,
   "metadata": {},
   "outputs": [],
   "source": []
  },
  {
   "cell_type": "code",
   "execution_count": null,
   "metadata": {},
   "outputs": [],
   "source": []
  },
  {
   "cell_type": "code",
   "execution_count": null,
   "metadata": {},
   "outputs": [],
   "source": []
  }
 ],
 "metadata": {
  "language_info": {
   "name": "python"
  }
 },
 "nbformat": 4,
 "nbformat_minor": 2
}

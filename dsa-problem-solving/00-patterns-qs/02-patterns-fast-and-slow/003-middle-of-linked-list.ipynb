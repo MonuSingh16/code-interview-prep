{
 "cells": [
  {
   "cell_type": "markdown",
   "metadata": {},
   "source": [
    "#### Statement\n",
    "Given the head of a singly linked list, return the middle node of the linked list. If the number of nodes in the linked list is even, there will be two middle nodes, so return the second one.\n",
    "\n",
    "\n",
    "#### Naive Approach\n",
    "\n",
    "n the naive approach, we use an external array to store the elements of the linked list, and then we return the element present at the index [array.lenght / 2]. as the middle node of the linked list. The time and space complexity of this approach is O(n), where \n",
    "n is the number of nodes in the linked list. Let’s see if we can solve this problem with better time and space complexity.\n",
    "\n",
    "The following steps are applied when identifying the middle of the linked list:\n",
    "\n",
    "1. Create two pointers, slow and fast, initially at the head of the linked list, that is, pointing to the first node.\n",
    "\n",
    "2. Traverse the linked list using both pointers, where the slow pointer will move one step forward, and the fast pointer will move two steps forward.\n",
    "\n",
    "3. When the fast pointer reaches the last element of the linked list, or becomes equal to NULL, the slow pointer, at that time, will point to the middle node. Return the node that the slow pointer points to.\n",
    "\n",
    "The time complexity of the solution above is O(n) and space complexity is O(1)\n",
    "\n"
   ]
  },
  {
   "cell_type": "code",
   "execution_count": null,
   "metadata": {},
   "outputs": [],
   "source": []
  }
 ],
 "metadata": {
  "kernelspec": {
   "display_name": "Python 3",
   "language": "python",
   "name": "python3"
  },
  "language_info": {
   "codemirror_mode": {
    "name": "ipython",
    "version": 3
   },
   "file_extension": ".py",
   "mimetype": "text/x-python",
   "name": "python",
   "nbconvert_exporter": "python",
   "pygments_lexer": "ipython3",
   "version": "3.11.6"
  }
 },
 "nbformat": 4,
 "nbformat_minor": 2
}

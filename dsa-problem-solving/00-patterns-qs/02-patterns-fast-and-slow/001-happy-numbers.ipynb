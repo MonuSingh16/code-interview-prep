{
 "cells": [
  {
   "cell_type": "markdown",
   "metadata": {},
   "source": [
    "#### Statement\n",
    "Write an algorithm to determine if a number n is a happy number. We use the following process to check if a given number is a happy number:\n",
    "\n",
    "Starting with the given number n, replace the number with the sum of the squares of its digits.\n",
    "\n",
    "Repeat the process until:\n",
    "\n",
    "- The number equals 1, which will depict that the given number n is a happy number.\n",
    "- The number enters a cycle, which will depict that the given number n is not a happy number.\n",
    "\n",
    "Return TRUE if n is a happy number, and FALSE if not.\n",
    "\n",
    "\n",
    "The slow runner advances one number at each step, while the fast runner advances two numbers. We detect if there is any cycle by comparing the two values and checking if the fast runner has indeed reached the number one. We return True or False depending on if those conditions are met.\n",
    "\n",
    "\n"
   ]
  }
 ],
 "metadata": {
  "kernelspec": {
   "display_name": "Python 3",
   "language": "python",
   "name": "python3"
  },
  "language_info": {
   "codemirror_mode": {
    "name": "ipython",
    "version": 3
   },
   "file_extension": ".py",
   "mimetype": "text/x-python",
   "name": "python",
   "nbconvert_exporter": "python",
   "pygments_lexer": "ipython3",
   "version": "3.11.6"
  }
 },
 "nbformat": 4,
 "nbformat_minor": 2
}

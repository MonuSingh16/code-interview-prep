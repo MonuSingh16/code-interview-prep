{
 "cells": [
  {
   "cell_type": "markdown",
   "metadata": {},
   "source": [
    "### Statement \n",
    "\n",
    "You need to find the minimum number of refueling stops that a car needs to make to cover a distance, target. For simplicity, assume that the car has to travel from west to east in a straight line. There are various fuel stations on the way that are represented as a 2-D array of stations, i.e., stations[i] = [d_i, f_i], where d_i is the distance (in miles) of the ith gas station from the starting position, and f_i is the amount of fuel (in liters) that it stores. Initially, the car starts with k liters of fuel. The car consumes one liter of fuel for every mile traveled. Upon reaching a gas station, the car can stop and refuel using all the petrol stored at the station. If it cannot reach the target, the program returns −1.\n",
    "\n",
    "### Solution\n",
    "\n",
    "The idea is to make optimal choices by selecting the fuel station with the maximum fuel capacity at each step to reach the target distance with the minimum number of refueling stops.\n",
    "\n",
    "To cater to the problem of selecting the maximum fuel value, we can use the max-heap to keep track of fuel capacity for refueling because the top of the max-heap will always have the highest fuel value. Therefore we can take the highest fuel value from the top of the max-heap to reach the target by using the minimum number of refueling stops. \n",
    "\n",
    "1. If the starting fuel is greater than or equal to the target distance, return 0. It means no extra fuel is required, and the car can reach the target using the starting fuel.\n",
    "\n",
    "2. Otherwise, iterate until the maximum distance is less than the target, and the car is not out of fuel:\n",
    "    1. If we have a fuel station that can be used to refuel, and the vehicle has enough fuel to reach it, add the refueling station to the max-heap.\n",
    "    2. If the max-heap contains no fuel stations, the vehicle can’t reach the target, and the function returns −1. In simpler words, the car doesn’t have enough fuel to reach the target even after stopping at all the fuel stations.\n",
    "    3. Otherwise, if the max-heap has fuel stations and the vehicle doesn’t have enough fuel to go to the next station, the vehicle refuels from the fuel station with the maximum fuel value. After refueling, we remove the fuel value of this refueling station from the max-heap and also increment the number of stops.\n",
    "3. After executing the loop, the function returns the total number of refueling stops required to reach the target distance."
   ]
  },
  {
   "cell_type": "code",
   "execution_count": null,
   "metadata": {},
   "outputs": [],
   "source": []
  },
  {
   "cell_type": "code",
   "execution_count": null,
   "metadata": {},
   "outputs": [],
   "source": []
  },
  {
   "cell_type": "code",
   "execution_count": null,
   "metadata": {},
   "outputs": [],
   "source": []
  }
 ],
 "metadata": {
  "language_info": {
   "name": "python"
  }
 },
 "nbformat": 4,
 "nbformat_minor": 2
}

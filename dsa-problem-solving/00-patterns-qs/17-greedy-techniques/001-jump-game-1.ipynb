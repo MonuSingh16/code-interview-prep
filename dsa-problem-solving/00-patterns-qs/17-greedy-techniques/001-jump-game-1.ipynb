{
 "cells": [
  {
   "cell_type": "markdown",
   "metadata": {},
   "source": [
    "### Statement\n",
    "\n",
    "In a single-player jump game, the player starts at one end of a series of squares, with the goal of reaching the last square.\n",
    "At each turn, the player can take up to s steps towards the last square, where s is the value of the current square.\n",
    "\n",
    "For example, if the value of the current square is 3, the player can take either 3 steps, or 2 steps, or 1 step in the direction of the last square. The player cannot move in the opposite direction, that is, away from the last square.\n",
    "\n",
    "You have been tasked with writing a function to validate whether a player can win a given game or not.\n",
    "\n",
    "You’ve been provided with the nums integer array, representing the series of squares. The player starts at the first index and, following the rules of the game, tries to reach the last index.\n",
    "\n",
    "If the player can reach the last index, your function returns TRUE; otherwise, it returns FALSE.\n",
    "\n",
    "### Solution \n",
    "\n",
    "1. Set the last index of the array as the target index.\n",
    "2. Traverse the array backward and verify if we can reach the target index from any of the previous indexes.\n",
    "    1. If we can reach it, we update the target index with the index that allows us to jump to the target index.\n",
    "    2. We repeat this process until we’ve traversed the entire array.\n",
    "3. Return TRUE if, through this process, we can reach the first index of the array. Otherwise, return FALSE.\n",
    "\n",
    "### Time and Space Complexity\n",
    "\n",
    "Time complexity is O(n), While Space Complexity is O(1)\n",
    "\n"
   ]
  },
  {
   "cell_type": "code",
   "execution_count": 1,
   "metadata": {},
   "outputs": [
    {
     "name": "stdout",
     "output_type": "stream",
     "text": [
      "1.\tInput array: [3, 2, 2, 0, 1, 4]\n",
      "\tCan we reach the very last index? True\n",
      "----------------------------------------------------------------------------------------------------\n",
      "2.\tInput array: [2, 3, 1, 1, 9]\n",
      "\tCan we reach the very last index? True\n",
      "----------------------------------------------------------------------------------------------------\n",
      "3.\tInput array: [3, 2, 1, 0, 4]\n",
      "\tCan we reach the very last index? False\n",
      "----------------------------------------------------------------------------------------------------\n",
      "4.\tInput array: [0]\n",
      "\tCan we reach the very last index? True\n",
      "----------------------------------------------------------------------------------------------------\n",
      "5.\tInput array: [1]\n",
      "\tCan we reach the very last index? True\n",
      "----------------------------------------------------------------------------------------------------\n",
      "6.\tInput array: [4, 3, 2, 1, 0]\n",
      "\tCan we reach the very last index? True\n",
      "----------------------------------------------------------------------------------------------------\n",
      "7.\tInput array: [1, 1, 1, 1, 1]\n",
      "\tCan we reach the very last index? True\n",
      "----------------------------------------------------------------------------------------------------\n",
      "8.\tInput array: [4, 0, 0, 0, 1]\n",
      "\tCan we reach the very last index? True\n",
      "----------------------------------------------------------------------------------------------------\n",
      "9.\tInput array: [3, 3, 3, 3, 3]\n",
      "\tCan we reach the very last index? True\n",
      "----------------------------------------------------------------------------------------------------\n",
      "10.\tInput array: [1, 2, 3, 4, 5, 6, 7]\n",
      "\tCan we reach the very last index? True\n",
      "----------------------------------------------------------------------------------------------------\n"
     ]
    }
   ],
   "source": [
    "def jump_game(nums):\n",
    "    # nums = [3, 2, 2, 0, 1, 4]\n",
    "    # Setting the last element in the array as our initial target\n",
    "    target_num_index = len(nums) - 1 # 5,\n",
    "\n",
    "    # Changing the target as we traverse the array backwards\n",
    "    for i in range(len(nums)-2, -1, -1): # i = 4 ... 0\n",
    "        # Since target index is within the jump of current index\n",
    "        if target_num_index <= i + nums[i]: \n",
    "            # Updating the target num index to current index\n",
    "            target_num_index = i # 4\n",
    "    if target_num_index == 0:\n",
    "        return True\n",
    "    \n",
    "    return False\n",
    "\n",
    "def main():\n",
    "    nums = [\n",
    "        [3, 2, 2, 0, 1, 4],\n",
    "        [2, 3, 1, 1, 9],\n",
    "        [3, 2, 1, 0, 4],\n",
    "        [0],\n",
    "        [1],\n",
    "        [4, 3, 2, 1, 0],\n",
    "        [1, 1, 1, 1, 1],\n",
    "        [4, 0, 0, 0, 1],\n",
    "        [3, 3, 3, 3, 3],\n",
    "        [1, 2, 3, 4, 5, 6, 7]\n",
    "    ]\n",
    "\n",
    "    for i in range(len(nums)):\n",
    "        print(i + 1, \".\\tInput array: \", nums[i], sep=\"\")\n",
    "        print(\"\\tCan we reach the very last index? \",\n",
    "              \"True\" if jump_game(nums[i]) else \"False\", sep=\"\")\n",
    "        print(\"-\" * 100)\n",
    "\n",
    "\n",
    "if __name__ == '__main__':\n",
    "    main()\n"
   ]
  },
  {
   "cell_type": "code",
   "execution_count": null,
   "metadata": {},
   "outputs": [],
   "source": []
  },
  {
   "cell_type": "code",
   "execution_count": null,
   "metadata": {},
   "outputs": [],
   "source": []
  }
 ],
 "metadata": {
  "kernelspec": {
   "display_name": "Python 3",
   "language": "python",
   "name": "python3"
  },
  "language_info": {
   "codemirror_mode": {
    "name": "ipython",
    "version": 3
   },
   "file_extension": ".py",
   "mimetype": "text/x-python",
   "name": "python",
   "nbconvert_exporter": "python",
   "pygments_lexer": "ipython3",
   "version": "3.11.6"
  }
 },
 "nbformat": 4,
 "nbformat_minor": 2
}

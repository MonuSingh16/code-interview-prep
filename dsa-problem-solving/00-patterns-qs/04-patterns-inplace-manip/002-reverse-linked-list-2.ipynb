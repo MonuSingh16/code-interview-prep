{
 "cells": [
  {
   "cell_type": "markdown",
   "metadata": {},
   "source": [
    "### Statement\n",
    "\n",
    "Given a singly linked list with n nodes and two positions, left and right, the objective is to reverse the nodes of the list from left to right. Return the modified list\n",
    "\n",
    "### Approach\n",
    "\n",
    "1. We initialize a `dummy` node, which will be helpful in scenarios where the reversal of the sublist starts from the head of the list.\n",
    "\n",
    "2. We set the next node of `dummy` to point to the head of the list.\n",
    "\n",
    "3. We initialize a pointer, `prev`, to the `dummy` node. This pointer will help us reconnect the sublist to the entire list after it has been reversed.\n",
    "\n",
    "4. We use a loop to traverse the list with the `prev` pointer and until it reaches the node immediately before the sublist to be reversed.\n",
    "\n",
    "5. We initialize a `curr` pointer, which points to the node next to `prev`.\n",
    "\n",
    "6. Another loop is used to reverse the sublist. This loop iterates right - left times, which is the number of nodes in the sublist minus one:\n",
    "\n",
    "    1. We set `next_node` to `curr.next`, representing the node to be moved to the front of the reversed sublist.\n",
    "    2. We update `curr.next` to `next_node.next`, effectively removing `next_node` from its current position in the sublist.\n",
    "    3. We set `next_node`.next to `prev.next`, inserting `next_node` at the beginning of the reversed sublist.\n",
    "    4. We update `prev.next` to `next_node`, adjusting the pointer to `next_node` for the next iteration.\n",
    "\n",
    "7. Finally, we return `dummy.next`, which is the head of the modified linked list."
   ]
  },
  {
   "cell_type": "code",
   "execution_count": null,
   "metadata": {},
   "outputs": [],
   "source": []
  },
  {
   "cell_type": "code",
   "execution_count": null,
   "metadata": {},
   "outputs": [],
   "source": []
  },
  {
   "cell_type": "code",
   "execution_count": null,
   "metadata": {},
   "outputs": [],
   "source": []
  }
 ],
 "metadata": {
  "kernelspec": {
   "display_name": "Python 3",
   "language": "python",
   "name": "python3"
  },
  "language_info": {
   "codemirror_mode": {
    "name": "ipython",
    "version": 3
   },
   "file_extension": ".py",
   "mimetype": "text/x-python",
   "name": "python",
   "nbconvert_exporter": "python",
   "pygments_lexer": "ipython3",
   "version": "3.11.6"
  }
 },
 "nbformat": 4,
 "nbformat_minor": 2
}

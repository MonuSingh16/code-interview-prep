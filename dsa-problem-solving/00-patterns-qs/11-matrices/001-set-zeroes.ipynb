{
 "cells": [
  {
   "cell_type": "markdown",
   "metadata": {},
   "source": [
    "### Statement \n",
    "\n",
    "Given a matrix, mat, if any element within the matrix is zero, set that row and column to zero.\n",
    "\n",
    "### Naive Approach\n",
    "\n",
    "The naive approach to solve this problem is by taking an extra matrix, mat2. First, copy all the elements of the given mat to mat2. Then, while traversing mat, whenever we encounter 0, we will make the entire row and column of the mat2 to 0. \n",
    "\n",
    "In the end, again, copy all the elements of mat2 to mat. This solution has high time and space complexity, which is O((mn) x (m + n)) and O(mn), respectively. Let's see optimized approach\n",
    "\n",
    "### Optimized Approach\n",
    "\n",
    "The first step is to get the number of rows and columns of the mat. Then we set two boolean flags, fcol and frow, to indicate any presence of 0 in the first row and first column, respectively, and set both flags to FALSE. Now, we check the first column and first row and set the frow and fcol to TRUE if we find any 0 in the first row and the first column, respectively. This is because at this stage, we will not set the entire first row or column to 0 as it can make the following rows and columns 0.\n",
    "\n",
    "Now, we check all the elements row-wise (by ignoring the first row and first column), and if a 0 is found, we set the first element in that row and column to 0. Now, we set 0 in rows and columns where required by following rules:\n",
    "\n",
    "1. Check every row’s first element, starting from the second row, and if it is 0, set all values in that row to 0\n",
    "2. Check every column’s first element, starting from the second column, and if it is 0, set all values in that row to 0.\n",
    "\n",
    "### Time and Space\n",
    "\n",
    "The time complexity of this algorithm is O(m×n), where m and n are the dimensions of the matrix. The space complexity is O(1) because we use no extra memory."
   ]
  },
  {
   "cell_type": "code",
   "execution_count": null,
   "metadata": {},
   "outputs": [],
   "source": []
  },
  {
   "cell_type": "code",
   "execution_count": null,
   "metadata": {},
   "outputs": [],
   "source": []
  },
  {
   "cell_type": "code",
   "execution_count": null,
   "metadata": {},
   "outputs": [],
   "source": []
  }
 ],
 "metadata": {
  "language_info": {
   "name": "python"
  }
 },
 "nbformat": 4,
 "nbformat_minor": 2
}

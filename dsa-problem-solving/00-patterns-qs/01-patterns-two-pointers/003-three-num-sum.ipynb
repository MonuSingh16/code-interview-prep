{
 "cells": [
  {
   "cell_type": "markdown",
   "metadata": {},
   "source": [
    "#### Statement\n",
    "\n",
    "Given an array of integers, nums, and an integer value, target, determine if there are any three integers in nums whose sum is equal to the target, that is, nums[i] + nums[j] + nums[k] == target. Return TRUE if three such integers exist in the array. Otherwise, return FALSE.\n",
    "\n",
    "#### Solution Approach\n",
    "\n",
    "1. Store the current array element and set up two pointers (low and high) to find the other two elements that complete the required triplet.\n",
    "\n",
    "    - The low pointer is set to the current loop’s index + 1.\n",
    "\n",
    "    - The high is set to the last index of the array.\n",
    "\n",
    "2. Calculate the sum of array elements pointed to by the current loop’s index and the low and high pointers.\n",
    "\n",
    "3. If the sum is equal to target, return TRUE.\n",
    "\n",
    "4. If the sum is less than target, move the low pointer forward.\n",
    "\n",
    "5. If the sum is greater than target, move the high pointer backward.\n",
    "\n",
    "Repeat until the loop has processed the entire array. If, after processing the entire array, we don’t find any triplet that matches our requirement, we return FALSE.\n",
    "\n",
    "In the solution above, sorting the array takes O(nlog(n)) and the nested loop takes O(n^2) to find the triplet. Here, n is the number of elements in the input array. Therefore, the total time complexity of this solution is O(nlog(n)+n^2) , which simplifies to O(n^2)"
   ]
  },
  {
   "cell_type": "code",
   "execution_count": null,
   "metadata": {},
   "outputs": [],
   "source": []
  },
  {
   "cell_type": "code",
   "execution_count": null,
   "metadata": {},
   "outputs": [],
   "source": []
  },
  {
   "cell_type": "code",
   "execution_count": null,
   "metadata": {},
   "outputs": [],
   "source": []
  }
 ],
 "metadata": {
  "language_info": {
   "name": "python"
  }
 },
 "nbformat": 4,
 "nbformat_minor": 2
}

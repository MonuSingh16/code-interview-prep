{
 "cells": [
  {
   "cell_type": "markdown",
   "metadata": {},
   "source": [
    "### Statement\n",
    "\n",
    "Given an unsorted integer array, nums, return the smallest missing positive integer. Create an algorithm that runs with an O(n)  time complexity and utilizes a constant amount of space.\n",
    "\n",
    "The smallest missing positive isn’t the first positive number that’s missing in the range of elements in the input, but the first positive number that’s missing if we start from 1\n",
    "\n",
    "### Naive Approach\n",
    "\n",
    "### Solution\n",
    "\n",
    "First, the array may have negative numbers as well. Second, the array does not have all consecutive numbers. The first problem can be solved by simply ignoring the negative values. The second problem can be solved by linearly scanning the sorted array in O(n)\n",
    "\n",
    "The algorithm iterates over each element of the array, and for each element, it determines the correct position where the element should be placed. It does this by subtracting 1 from the element value because of 0-based indexing. It checks the following conditions for each element after determining its correct position:\n",
    "\n",
    "- If the current element is in the [1−n] range, and if it is not already at its correct position, swap the current element with the element at its correct position.\n",
    "\n",
    "- Otherwise, move on to the next element\n",
    "\n",
    "- After placing all the elements at the correct positions, traverse the array again and check if the value at each index is equal to its index plus 1. If it is not, return the index plus 1 as the smallest missing positive integer.\n",
    "\n",
    "### Time & Space \n",
    "\n",
    "The algorithm traverses over the array two times, and in both traversals, it iterates over each element exactly once. Therefore, the time complexity of this algorithm is O(n)\n",
    "\n",
    "The space complexity of the algorithm is O(1)"
   ]
  },
  {
   "cell_type": "code",
   "execution_count": 1,
   "metadata": {},
   "outputs": [
    {
     "name": "stdout",
     "output_type": "stream",
     "text": [
      "1.\tThe first missing positive integer in the list [1, 2, 3, 4] is: \n",
      "\t5\n",
      "----------------------------------------------------------------------------------------------------\n",
      "2.\tThe first missing positive integer in the list [-1, 3, 5, 7, 1] is: \n",
      "\t2\n",
      "----------------------------------------------------------------------------------------------------\n",
      "3.\tThe first missing positive integer in the list [1, 5, 4, 3, 2] is: \n",
      "\t6\n",
      "----------------------------------------------------------------------------------------------------\n",
      "4.\tThe first missing positive integer in the list [-1, 0, 2, 1, 4] is: \n",
      "\t3\n",
      "----------------------------------------------------------------------------------------------------\n",
      "5.\tThe first missing positive integer in the list [1, 4, 3] is: \n",
      "\t2\n",
      "----------------------------------------------------------------------------------------------------\n"
     ]
    }
   ],
   "source": [
    "def smallest_missing_positive_integer(nums):\n",
    "  i = 0\n",
    "  while i < len(nums):\n",
    "      correct_spot = nums[i] - 1  # determining the correct position of the current element\n",
    "      # check if the current element is in the range [1, n] and is not already at its correct position\n",
    "      if 0 <= correct_spot < len(nums) and nums[i] != nums[correct_spot]:\n",
    "          # swap the current element with the element at its correct position\n",
    "          nums[i], nums[correct_spot] = nums[correct_spot], nums[i]\n",
    "      else:\n",
    "          i += 1  # move on to the next element if the current element is already at its correct position or out of range\n",
    "\n",
    "  # iterate through the array again and check if each element is equal to its index plus 1\n",
    "  for i in range(len(nums)):\n",
    "      if i + 1 != nums[i]:\n",
    "          return i + 1  # return the smallest missing positive integer\n",
    "  return len(nums) + 1  # if all the elements are in order, return the next positive integer\n",
    "\n",
    "\n",
    "\n",
    "# Driver code\n",
    "def main():\n",
    "  input_array = [[1, 2, 3, 4], [-1, 3, 5, 7, 1], [1, 5, 4, 3, 2], [-1 , 0, 2, 1, 4], [1,4,3]]\n",
    "  x = 1\n",
    "  for i in range(len(input_array)):\n",
    "    print(x, \".\\tThe first missing positive integer in the list \", input_array[i], \" is: \", sep = \"\")\n",
    "    print(\"\\t\" + str(smallest_missing_positive_integer(input_array[i])))\n",
    "    print(\"-\" * 100)\n",
    "    x = x + 1\n",
    "\n",
    "if __name__ == '__main__':\n",
    "  main()"
   ]
  },
  {
   "cell_type": "code",
   "execution_count": null,
   "metadata": {},
   "outputs": [],
   "source": []
  },
  {
   "cell_type": "code",
   "execution_count": null,
   "metadata": {},
   "outputs": [],
   "source": []
  }
 ],
 "metadata": {
  "kernelspec": {
   "display_name": "Python 3",
   "language": "python",
   "name": "python3"
  },
  "language_info": {
   "codemirror_mode": {
    "name": "ipython",
    "version": 3
   },
   "file_extension": ".py",
   "mimetype": "text/x-python",
   "name": "python",
   "nbconvert_exporter": "python",
   "pygments_lexer": "ipython3",
   "version": "3.11.6"
  }
 },
 "nbformat": 4,
 "nbformat_minor": 2
}

{
 "cells": [
  {
   "cell_type": "markdown",
   "metadata": {},
   "source": [
    "### Statement\n",
    "\n",
    "Given a string, str, rearrange it so that any two adjacent characters are not the same. If such a reorganization of the characters is possible, output any possible valid arrangement. Otherwise, return an empty string.\n",
    "\n",
    "### Naive Solution\n",
    "\n",
    "The naive approach is to generate all possible permutations of the given string and check if the generated string is a valid arrangement or not. If any permutation satisfies the condition of a valid reorganization of the string, return that permutation of the input string. If no permutation is a valid reorganization of the string, return an empty string.\n",
    "\n",
    "The number of possible permutations for a string of length n x n!. nd it might require iterating through the n characters to construct each permutation. Therefore, it will take O(n! x n) time to generate all these permutations. Then, for each permutation, we need to check whether it satisfies the condition of having no adjacent characters that are the same. Checking this condition requires iterating through the permutation once, which takes O(n) time. Therefore, the overall time complexity of this naive approach is O((n! x n) x n)\n",
    "\n",
    "### Optimized Solution\n",
    "\n",
    "Let’s use the top k elements technique to reorganize the input string. This technique will use a max-heap to store characters along with their frequencies so that the character with the highest frequency will always be at the root of the heap. If we build the required order from the most frequent element, followed by the second most frequent element, and keep following this trend, we’ll likely find a valid reorganization of the string. If that fails, this means that it’s impossible to rearrange the string.\n",
    "\n",
    "After getting all the characters and their respective frequencies, we initialize the heap to provide quick access to the most frequently occurring characters in the string. Since some languages, such as Python, don’t have built-in max-heap functionality, we store the frequencies in a heap in such a way that will serve our purpose.\n",
    "\n",
    "We first iterate through the hash map and store the negative count of each character and the character itself in a heap. The reason for storing the negative count of each character is that when we pop characters from the heap, the heap will return the character with the maximum frequency.\n",
    "\n",
    "For example, we have aabc as an input string. The hash map stores `{a: 2, b:1, c:1}`. Now, when we store the negative count of each character along with that character, the heap will look like this: `[[-2, a], [-1, b], [-1, c]]`. The first element that is popped from the heap is `a`, since it has the highest frequency of occurrence in the string.\n",
    "\n",
    "Now, we take two variables, `previous` and `result`. The `previous` variable stores the previous character that we used so that we don’t use that character again. The `result` variable stores the final reorganized string.\n",
    "\n",
    "For example, we have abcddd as an input string. The heap will store `[[-3, d], [-1, a], [-1, b], [-1, c]]`. In the first iteration, we add d to the result string as it has the highest count. If we update its count and put this element back into the heap right away, our heap will become `[[-2, d], [-1, a], [-1, b], [-1, c]]`, and we again get d in the next iteration, since it is still the most frequently occurring element. Therefore, we store d in previous to push onto the heap in the next iteration to avoid similar adjacent characters.\n",
    "\n",
    "If our heap is empty and the previous variable is non-empty, that means we get to a point where we cannot generate any solution because no valid reordering of the string exists. Therefore, an empty string is returned.\n",
    "\n",
    "### Time and Space\n",
    "\n",
    "As we iterate through the heap, every popped element may be pushed back onto the heap. This process is repeated until we have considered all the characters in the input string. Therefore, the iteration runs O(n) times, where n is the number of characters in the string. The worst-case time complexity of the push operation is O(log (c)) where c is the number of distinct characters in the string. Now, the time complexity becomes O(n log(c))  Since the upper bound on c is the size of the alphabet, which is 26, the log(c) term is effectively a constant. As a result, we may say that the overall time complexity is O(n)\n",
    "\n",
    "The maximum capacity of each data structure is 26 — a fixed number. As a result, the space complexity of our solution is O(1)\n"
   ]
  },
  {
   "cell_type": "code",
   "execution_count": null,
   "metadata": {},
   "outputs": [],
   "source": []
  },
  {
   "cell_type": "code",
   "execution_count": null,
   "metadata": {},
   "outputs": [],
   "source": []
  },
  {
   "cell_type": "code",
   "execution_count": null,
   "metadata": {},
   "outputs": [],
   "source": []
  }
 ],
 "metadata": {
  "language_info": {
   "name": "python"
  }
 },
 "nbformat": 4,
 "nbformat_minor": 2
}

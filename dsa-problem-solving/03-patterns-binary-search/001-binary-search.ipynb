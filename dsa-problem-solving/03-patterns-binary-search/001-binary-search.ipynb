{
 "cells": [
  {
   "cell_type": "markdown",
   "metadata": {},
   "source": [
    "#### Statement\n",
    "\n",
    "We are given an array of integers, nums, sorted in ascending order, and an integer value, target. If the target exists in the array, return its index. If the target does not exist, return -1.\n",
    "\n",
    "#### Approach\n",
    "\n",
    "- Find the middle element in the sorted array.\n",
    "- Compare the middle element with the target element. If it matches, return the index of the element.\n",
    "- If the target element is smaller than the middle element, perform the search on the left half of the array. Otherwise, perform the search on the right half of the array.\n",
    "- Repeat the process until the target value is found. Otherwise, return -1 if not found.\n",
    "\n",
    "The time complexity of this solution is logarithmic, O(log n), where n is the number of elements in the array.\n",
    "\n",
    "The space complexity of this solution is constant, O(1)\n",
    "\n"
   ]
  },
  {
   "cell_type": "code",
   "execution_count": 1,
   "metadata": {},
   "outputs": [
    {
     "name": "stdout",
     "output_type": "stream",
     "text": [
      "1.\tArray to search[]\n",
      "\tTarget: 12\n",
      "\t12 does not exist in the array so the return value is -1\n",
      "----------------------------------------------------------------------------------------------------\n",
      "2.\tArray to search[0, 1]\n",
      "\tTarget: 1\n",
      "\t1 exists in the array at index 1\n",
      "----------------------------------------------------------------------------------------------------\n",
      "3.\tArray to search[1, 2, 3]\n",
      "\tTarget: 3\n",
      "\t3 exists in the array at index 2\n",
      "----------------------------------------------------------------------------------------------------\n",
      "4.\tArray to search[-1, 0, 3, 5, 9, 12]\n",
      "\tTarget: 9\n",
      "\t9 exists in the array at index 4\n",
      "----------------------------------------------------------------------------------------------------\n",
      "5.\tArray to search[-100, -67, -55, -50, -49, -40, -33, -22, -10, -5]\n",
      "\tTarget: -22\n",
      "\t-22 exists in the array at index 7\n",
      "----------------------------------------------------------------------------------------------------\n"
     ]
    }
   ],
   "source": [
    "def binary_search(nums, target):\n",
    "\n",
    "    low = 0\n",
    "    high = len(nums) - 1\n",
    "\n",
    "    # When the value of low is greater than the value of high, this indicates that the target is not present in the array\n",
    "    while low <= high:\n",
    "        middle = low + ((high - low ) // 2)\n",
    "        \n",
    "        # If nums[mid] is equal to the target value, we return mid.\n",
    "        if nums[middle] == target:\n",
    "            return middle\n",
    "        \n",
    "        # If nums[mid] is greater than target, point high to mid-1, \n",
    "        # and the value of low remains the same. \n",
    "        # Now we will search the left part of the array.\n",
    "        elif nums[middle] > target:\n",
    "            high = middle - 1\n",
    "        \n",
    "        # If nums[mid] is less than target, point low to mid + 1, \n",
    "        # and the value of high remains the same. \n",
    "        # Now we will search the right part of the array.\n",
    "        elif nums[middle] < target:\n",
    "            low = middle + 1\n",
    "\n",
    "    return -1\n",
    "\n",
    "def main():\n",
    "    nums_lists = [\n",
    "        [], \n",
    "        [0, 1],\n",
    "        [1, 2, 3], \n",
    "        [-1, 0, 3, 5, 9, 12], \n",
    "        [-100, -67, -55, -50, -49, -40, -33, -22, -10, -5]\n",
    "      ]\n",
    "    target_list = [12, 1, 3, 9, -22]\n",
    "\n",
    "    for i in range(len(nums_lists)):\n",
    "        nums = nums_lists[i]\n",
    "        target = target_list[i]\n",
    "        index = binary_search(nums, target)\n",
    "\n",
    "        print(i+1, \".\\tArray to search\", nums, sep=\"\")\n",
    "        print(\"\\tTarget: \", target, sep=\"\")\n",
    "\n",
    "        if index != -1:\n",
    "            print(\"\\t\", target, \" exists in the array at index \", index, sep=\"\")\n",
    "        else:\n",
    "            print(\"\\t\", target, \" does not exist in the array so the return value is \", index, sep=\"\")\n",
    "        print('-' * 100)\n",
    "\n",
    "\n",
    "if __name__ == '__main__':\n",
    "\t\tmain()\n",
    "    "
   ]
  },
  {
   "cell_type": "code",
   "execution_count": null,
   "metadata": {},
   "outputs": [],
   "source": []
  },
  {
   "cell_type": "code",
   "execution_count": null,
   "metadata": {},
   "outputs": [],
   "source": []
  }
 ],
 "metadata": {
  "kernelspec": {
   "display_name": "Python 3",
   "language": "python",
   "name": "python3"
  },
  "language_info": {
   "codemirror_mode": {
    "name": "ipython",
    "version": 3
   },
   "file_extension": ".py",
   "mimetype": "text/x-python",
   "name": "python",
   "nbconvert_exporter": "python",
   "pygments_lexer": "ipython3",
   "version": "3.11.6"
  }
 },
 "nbformat": 4,
 "nbformat_minor": 2
}

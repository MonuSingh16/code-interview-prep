{
 "cells": [
  {
   "cell_type": "markdown",
   "metadata": {},
   "source": [
    "#### Statement\n",
    "\n",
    "The latest version of a software product fails the quality check. Since each version is developed upon the previous one, all the versions created after a bad version are also considered bad.\n",
    "\n",
    "Suppose you have n versions with the IDs [1, 2, 3, ..., n] and you have access to an API function that returns TRUE if the argument is the ID of a bad version.\n",
    "\n",
    "Find the first bad version that is causing all the later ones to be bad. Additionally, the solution should also return the number of API calls made during the process and should minimize the number of API calls too.\n",
    "\n",
    "#### Approach\n",
    "\n",
    "The idea is to check the middle version to see if it’s bad. If it’s good, this means that the first bad version occurs later in the range, allowing us to entirely skip checking the first half of the range. If it’s bad, we need to check the first half of the range to find the first bad version. Therefore, we can skip checking the second half of the range.\n",
    "\n",
    "When we go to check the identified half of the range, we use the same approach again. We check the middle version to figure out which half of the current range to check.\n",
    "\n",
    "1. Initialize first to 1 and last to n.\n",
    "2. Calculate mid as the mean of 1 and n and call the API function with mid. Increment the counter for the number of API calls.\n",
    "3. If the API function returns TRUE which indicates that the argument is the ID of a bad version, set last to mid-1.\n",
    "4. Else, if the API function returns FALSE, set first to mid+1\n",
    "5. While first <= last, repeat the steps to adjust first and last, to recalculate mid, and to call the API function.\n",
    "6. Return the tuple containing the first bad version and the number of API calls.\n",
    "\n",
    "#### Naive Approach\n",
    "\n",
    "The naive approach is to find the first bad version in the versions range by linear search. We traverse the whole version range one element at a time until we find the target version.\n",
    "\n",
    "The time complexity of this approach is O(n), because we may have to search the entire range in this process. This approach ignores an important piece of information: the range of version numbers is sorted from \n",
    "1 to n. Let’s see if we can use this information to design a faster solution."
   ]
  },
  {
   "cell_type": "code",
   "execution_count": 1,
   "metadata": {},
   "outputs": [
    {
     "name": "stdout",
     "output_type": "stream",
     "text": [
      "1.\tNumber of versions: 38\n",
      "\n",
      "\tFirst bad version: 28. Found in 6 API calls.\n",
      "----------------------------------------------------------------------------------------------------\n",
      "\n",
      "2.\tNumber of versions: 13\n",
      "\n",
      "\tFirst bad version: 10. Found in 4 API calls.\n",
      "----------------------------------------------------------------------------------------------------\n",
      "\n",
      "3.\tNumber of versions: 29\n",
      "\n",
      "\tFirst bad version: 10. Found in 5 API calls.\n",
      "----------------------------------------------------------------------------------------------------\n",
      "\n",
      "4.\tNumber of versions: 40\n",
      "\n",
      "\tFirst bad version: 28. Found in 5 API calls.\n",
      "----------------------------------------------------------------------------------------------------\n",
      "\n",
      "5.\tNumber of versions: 23\n",
      "\n",
      "\tFirst bad version: 19. Found in 4 API calls.\n",
      "----------------------------------------------------------------------------------------------------\n"
     ]
    }
   ],
   "source": [
    "def is_bad_versions(s):\n",
    "    return s >= v\n",
    "\n",
    "def first_bad_version(n):\n",
    "    first = 1\n",
    "    last = n\n",
    "    calls = 0\n",
    "\n",
    "    while first <= last:\n",
    "        mid = first + ((last - first) // 2)\n",
    "        if is_bad_versions(mid):\n",
    "            last = mid - 1\n",
    "        else:\n",
    "            first = mid + 1\n",
    "        calls += 1\n",
    "    return [first, calls]\n",
    "\n",
    "# Driver code\n",
    "def main():\n",
    "    global v\n",
    "    test_case_versions = [38, 13, 29, 40, 23]\n",
    "    first_bad_versions = [28, 10, 10, 28, 19]\n",
    "\n",
    "    for i in range(len(test_case_versions)):\n",
    "        v = first_bad_versions[i]\n",
    "        if i > 0:\n",
    "            print()\n",
    "        print(i + 1,  \".\\tNumber of versions: \", test_case_versions[i], sep=\"\")\n",
    "        result = first_bad_version(test_case_versions[i])\n",
    "        print(\"\\n\\tFirst bad version: \",\n",
    "              result[0], \". Found in \", result[1], \" API calls.\", sep=\"\")\n",
    "        print(\"-\"*100)\n",
    "\n",
    "\n",
    "if __name__ == '__main__':\n",
    "    main()"
   ]
  },
  {
   "cell_type": "code",
   "execution_count": null,
   "metadata": {},
   "outputs": [],
   "source": []
  }
 ],
 "metadata": {
  "kernelspec": {
   "display_name": "Python 3",
   "language": "python",
   "name": "python3"
  },
  "language_info": {
   "codemirror_mode": {
    "name": "ipython",
    "version": 3
   },
   "file_extension": ".py",
   "mimetype": "text/x-python",
   "name": "python",
   "nbconvert_exporter": "python",
   "pygments_lexer": "ipython3",
   "version": "3.11.6"
  }
 },
 "nbformat": 4,
 "nbformat_minor": 2
}

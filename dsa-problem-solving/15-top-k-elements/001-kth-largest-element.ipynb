{
 "cells": [
  {
   "cell_type": "markdown",
   "metadata": {},
   "source": [
    "### Statement\n",
    "\n",
    "Given an infinite stream of integers (sorted or unsorted), nums, design a class to find the kth largest element in a stream.\n",
    "Note: It is the kth largest element in the sorted order, not the k th distinct element\n",
    "\n",
    "### Naive Solution\n",
    "\n",
    "\n",
    "### Solution\n",
    "\n",
    "As new elements are added to the number stream, the Kth element largest element.largest element keeps changing. We need to implement a class that caters to the dynamically changing numbers. \n",
    "\n",
    "In a min-heap, the smallest number is always at the top. We’ll use this property to design a solution that ensures that in a min-heap with k elements, the Kth largest element is always at top of the heap.\n",
    "\n",
    "To recap, the solution to this problem can be divided into the following parts:\n",
    "\n",
    "1. Initialize a min-heap in the constructor to store the elements. Iterate through the elements in nums and call the add function for each element.\n",
    "2. In the add function, if the size of the heap is less than k, push the number into the heap. Otherwise, if the incoming value is greater than the smallest element (top of the heap), perform a pop operation to remove the smallest element, and then push the new value into the heap. \n",
    "3. After adding all the numbers, the kth largest element can be found at the root of the heap.\n",
    "\n",
    "### Time and Space Complexity\n",
    "\n",
    "In the constructor, we iterate through the nums list with n elements and add them to the heap. Adding each element to the heap takes, at most, O(logk) time. Therefore overall time complexity is O(nlogk)\n",
    "\n",
    "In the add function, we perform operations like pushing and popping elements from the heap, which take, at most O(log k). Therefore, the time complexity of the add function is O(log k). \n",
    "\n",
    "Space - The space complexity will be O(k), where k is the kth largest element we need to find in a stream, This is beacuse heap is initialized to have a maximum size of k, resulting in overall complexity of O(k)\n"
   ]
  },
  {
   "cell_type": "code",
   "execution_count": null,
   "metadata": {},
   "outputs": [],
   "source": []
  },
  {
   "cell_type": "code",
   "execution_count": null,
   "metadata": {},
   "outputs": [],
   "source": []
  },
  {
   "cell_type": "code",
   "execution_count": null,
   "metadata": {},
   "outputs": [],
   "source": []
  }
 ],
 "metadata": {
  "language_info": {
   "name": "python"
  }
 },
 "nbformat": 4,
 "nbformat_minor": 2
}

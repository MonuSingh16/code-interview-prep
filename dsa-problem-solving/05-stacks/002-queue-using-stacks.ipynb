{
 "cells": [
  {
   "cell_type": "markdown",
   "metadata": {},
   "source": [
    "### Statement\n",
    "\n",
    "Design a custom queue, MyQueue, using only two stacks. Implement the Push(), Pop(), Peek(), and Empty() methods:\n",
    "\n",
    "1. `Void Push(int x)`: Pushes element to the back of the queue.\n",
    "2. `Int Pop()`: Removes and returns the element from the front of the queue.\n",
    "3. `Int Peek()`: Returns the element at the front of the queue.\n",
    "4. `Boolean Empty()`: Returns TRUE if the queue is empty. Otherwise FALSE.\n",
    "\n",
    "You are required to only use the standard stack operations, which means that only the Push() to top, Peek() and Pop() from the top, Size(), and Is Empty() operations are valid.\n",
    "\n",
    "### Solution \n",
    "\n",
    "A queue is a first in, first out (FIFO) data structure, while a stack is a last in, first out (LIFO) data structure. We will use two stacks, stack1 and stack2, to preserve the FIFO property of a queue.\n",
    "\n",
    "1. Push(): Whenever a new element is to be pushed, we will pop all elements from stack1 and push into stack2 so that the latest element is pushed to the bottom of stack1. We will then pop the elements from stack2 and push back into stack1, preserving the FIFO order.\n",
    "\n",
    "2. Pop(): Since the order of insertion was preserved during Push(), we will simply Pop() from the top of stack1.\n",
    "\n",
    "3. Empty(): Since stack1 contains all the elements, its size is checked to see if the queue is empty.\n",
    "\n",
    "4. Peek(): We will return the top of stack1, which is the front of the queue, because the FIFO order was preserved.\n"
   ]
  },
  {
   "cell_type": "code",
   "execution_count": null,
   "metadata": {},
   "outputs": [],
   "source": []
  },
  {
   "cell_type": "code",
   "execution_count": null,
   "metadata": {},
   "outputs": [],
   "source": []
  },
  {
   "cell_type": "code",
   "execution_count": null,
   "metadata": {},
   "outputs": [],
   "source": []
  }
 ],
 "metadata": {
  "language_info": {
   "name": "python"
  }
 },
 "nbformat": 4,
 "nbformat_minor": 2
}

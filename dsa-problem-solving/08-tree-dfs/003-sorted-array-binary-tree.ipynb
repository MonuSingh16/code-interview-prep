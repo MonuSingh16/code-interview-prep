{
 "cells": [
  {
   "cell_type": "markdown",
   "metadata": {},
   "source": [
    "### Statement\n",
    "\n",
    "Given an array of integers, nums, sorted in ascending order, your task is to construct a height-balanced binary search tree (BST) from this array.\n",
    "\n",
    "In a height-balanced BST, the difference of heights of the left subtree and right subtree of any node is not more than 1.\n",
    "\n",
    "### Solution \n",
    "\n",
    "In this array, the first element will be smaller than the middle element, and the right element will be greater than the middle element. Therefore, we can use the middle element as the root, the first element as the left child, and the third element as the right child of the root. This approach can be used to create the BST from a sorted array.\n",
    "\n",
    "The first step of constructing the BST from the sorted array is to find the middle element of the array and create the root node from that element. Then, calculate the middle element from the left subarray, and make it the left node of the root. Recursively, do these steps on the left subarray to create the left subtree. Next, calculate the middle element from the right subarray, and make it the right node of the root. Recursively, do these steps on the right subarray to create the right subtree.\n",
    "\n",
    "\n",
    "1. The base case is low > high, meaning no more elements remain to add to the tree. Therefore, return NULL.\n",
    "2. If the base case is not reached, then the function calculates the middle index, mid, of the array from the indexes low and high. 3. Create a new tree node with the value at mid as its data. This node becomes the root of the tree for this call of the function.\n",
    "4. Make the following recursive call to add the elements from low to mid-1 for the left subtree of the root.\n",
    "\n",
    "`root.left = sorted_array_to_bst_helper(nums, low, mid - 1)`\n",
    "\n",
    "5. Make the following recursive call to add the elements from mid+1 to high for the right subtree of the root.\n",
    "\n",
    "`root.right = sorted_array_to_bst_helper(nums, mid + 1, high)`\n",
    "\n",
    "### Time and Space \n",
    "\n",
    "The time complexity of this solution is O(n), Where n is the size of the input array. The space complexity of this solution is \n",
    "O(logn), because it’s a height-balanced tree, and it’s the space required for the recursive stack.\n",
    " "
   ]
  },
  {
   "cell_type": "code",
   "execution_count": null,
   "metadata": {},
   "outputs": [],
   "source": []
  },
  {
   "cell_type": "code",
   "execution_count": null,
   "metadata": {},
   "outputs": [],
   "source": []
  },
  {
   "cell_type": "code",
   "execution_count": null,
   "metadata": {},
   "outputs": [],
   "source": []
  }
 ],
 "metadata": {
  "language_info": {
   "name": "python"
  }
 },
 "nbformat": 4,
 "nbformat_minor": 2
}

{
 "cells": [
  {
   "cell_type": "markdown",
   "metadata": {},
   "source": [
    "### Statement\n",
    "\n",
    "Given a binary tree, you need to compute the length of the tree’s diameter. The diameter of a binary tree is the length of the longest path between any two nodes in a tree. This path may or may not pass through the root.\n",
    "\n",
    "Note: The length of the path between two nodes is represented by the number of edges between them.\n",
    "\n",
    "### Naive Approach \n",
    "\n",
    "The naive approach will be to pick one node, find the distance to every other node from the selected node, and keep track of the maximum value. Repeat this process with all the nodes of the tree. After this process, we’ll have the maximum possible distance between the two nodes. O(n^2)\n",
    "\n",
    "### Optimized Approach\n",
    "\n",
    "Case 1: The longest path that passes through the root of the tree\n",
    "height(root -> left) + height(root -> right) + 1(root node itself)\n",
    "\n",
    "The path starts from the deepest node in the left subtree (adding height(root -> left) to the diameter), passes through the root (adding 1 to the diameter), and ends at the deepest node in the right subtree (adding height(root -> right) to the diameter).\n",
    "\n",
    "Case 2: The longest path that doesn’t pass through the root of the tree\n"
   ]
  },
  {
   "cell_type": "markdown",
   "metadata": {},
   "source": [
    "### Solution Summary \n",
    "\n",
    "1. Start with the assumption that the diameter is 0\n",
    "2. Calculate the diameter of the left sub-tree and right sub-tree of the root node using the following recursive process:\n",
    "    1. At a leaf node, the diameter and height with respect to its children is 0 and 1, respectively.\n",
    "    2. For a non-leaf node, calculate the heights as well as the diameters of the left and right sub-trees. If the diameter passes through this node, then the diameter is the sum of the heights of the two sub-trees. Otherwise, it is the greater of the diameters of the two sub-trees.\n",
    "3. Update the diameter as the greater of two values:\n",
    "    1. the sum of the heights of the left and right sub-trees,\n",
    "    2. the greater of the diameters of the two sub-trees.\n",
    "\n",
    "### Time and Space Complexity -\n",
    "O(n), O(n)"
   ]
  },
  {
   "cell_type": "code",
   "execution_count": 2,
   "metadata": {},
   "outputs": [],
   "source": [
    "class TreeNode:\n",
    "    def __init__(self, data):\n",
    "        self.data = data\n",
    "        self.left = None\n",
    "        self.right = None"
   ]
  },
  {
   "cell_type": "code",
   "execution_count": 4,
   "metadata": {},
   "outputs": [],
   "source": [
    "from typing import List\n",
    "from queue import Queue\n",
    "# from TreeNode import *\n",
    "\n",
    "class BinaryTree:\n",
    "    def __init__(self, nodes):\n",
    "        self.root = self.createBinaryTree(nodes)\n",
    "\n",
    "    def createBinaryTree(self, nodes):\n",
    "        if len(nodes) == 0:\n",
    "            return None\n",
    "\n",
    "        # Create the root node of the binary tree\n",
    "        root = TreeNode(nodes[0].data)\n",
    "\n",
    "        # Create a queue and add the root node to it\n",
    "        queue = Queue()\n",
    "        queue.put(root)\n",
    "\n",
    "        # Start iterating over the list of nodes starting from the second node\n",
    "        i = 1\n",
    "        while i < len(nodes):\n",
    "            # Get the next node from the queue\n",
    "            curr = queue.get()\n",
    "\n",
    "            # If the node is not None, create a new TreeNode object for its left child,\n",
    "            # set it as the left child of the current node, and add it to the queue\n",
    "            if nodes[i] is not None:\n",
    "                curr.left = TreeNode(nodes[i].data)\n",
    "                queue.put(curr.left)\n",
    "\n",
    "            i += 1\n",
    "\n",
    "            # If there are more nodes in the list and the next node is not None,\n",
    "            # create a new TreeNode object for its right child, set it as the right child\n",
    "            # of the current node, and add it to the queue\n",
    "            if i < len(nodes) and nodes[i] is not None:\n",
    "                curr.right = TreeNode(nodes[i].data)\n",
    "                queue.put(curr.right)\n",
    "\n",
    "            i += 1\n",
    "\n",
    "        # Return the root of the binary tree\n",
    "        return root"
   ]
  },
  {
   "cell_type": "code",
   "execution_count": null,
   "metadata": {},
   "outputs": [],
   "source": [
    "def di"
   ]
  },
  {
   "cell_type": "code",
   "execution_count": null,
   "metadata": {},
   "outputs": [],
   "source": []
  }
 ],
 "metadata": {
  "kernelspec": {
   "display_name": "Python 3",
   "language": "python",
   "name": "python3"
  },
  "language_info": {
   "codemirror_mode": {
    "name": "ipython",
    "version": 3
   },
   "file_extension": ".py",
   "mimetype": "text/x-python",
   "name": "python",
   "nbconvert_exporter": "python",
   "pygments_lexer": "ipython3",
   "version": "3.11.6"
  }
 },
 "nbformat": 4,
 "nbformat_minor": 2
}

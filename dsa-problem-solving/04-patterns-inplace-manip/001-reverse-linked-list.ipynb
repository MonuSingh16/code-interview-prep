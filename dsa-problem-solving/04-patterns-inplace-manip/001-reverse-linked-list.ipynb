{
 "cells": [
  {
   "cell_type": "markdown",
   "metadata": {},
   "source": [
    "#### Statement\n",
    "\n",
    "Given the head of a singly linked list, reverse the linked list and return its updated head.\n",
    "\n",
    "To reverse the linked list, we will follow these steps:\n",
    "\n",
    "1. Initialize three pointers: prev, next, and curr. The prev and next pointers are initialized as NULL, while the curr pointer is initialized to the head of the linked list.\n",
    "\n",
    "2. Iterate over the linked list. While iterating, perform the following steps:\n",
    "\n",
    "    1. Before changing the next of curr, store the next node using the following line of code next = curr.next.\n",
    "    2. Now, we will update the next pointer of curr with the prev pointer. This will reverse the pointer of the current node from forward to backward, eventually aiding the reversal of the linked list.\n",
    "    3. After reversing the pointer, we’ll update prev as curr and curr as next using prev = curr and curr = next respectively.\n",
    "\n",
    "3. After reversing the whole linked list, we’ll change the head pointer to the prev pointer because prev will be pointing to the new head node."
   ]
  },
  {
   "cell_type": "code",
   "execution_count": null,
   "metadata": {},
   "outputs": [],
   "source": [
    "def reverse(head):\n",
    "\n",
    "    prev, next = None, None\n",
    "    curr = head\n",
    "\n",
    "    while curr is not None:\n",
    "        # set the next pointer to the next node in the list\n",
    "        next = curr.next\n",
    "        # reverse the current node's pointer to point to the previous node\n",
    "        curr.next = prev\n",
    "        # set the previous pointer to the current node\n",
    "        prev = curr\n",
    "        # move the current pointer to the next node\n",
    "        curr = next\n",
    "        \n",
    "    # set the head pointer to the last node, which is the new first node after reversal\n",
    "    head = prev\n",
    "\n",
    "    return head"
   ]
  },
  {
   "cell_type": "code",
   "execution_count": null,
   "metadata": {},
   "outputs": [],
   "source": []
  },
  {
   "cell_type": "code",
   "execution_count": null,
   "metadata": {},
   "outputs": [],
   "source": []
  }
 ],
 "metadata": {
  "language_info": {
   "name": "python"
  }
 },
 "nbformat": 4,
 "nbformat_minor": 2
}

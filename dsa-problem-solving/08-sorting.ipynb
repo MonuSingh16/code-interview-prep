{
 "cells": [
  {
   "cell_type": "markdown",
   "metadata": {},
   "source": [
    "#### Insertion Sort\n",
    "\n",
    "Say that we have an array of size 5, populated with values: [2,3,4,1,6]. Our goal is to sort the array so we end up with [1,2,3,4,6]. Insertion sort says to break the arrays into sub-arrays and sort them individually, which results in a sorted array.\n",
    "\n",
    "The next subarray will be of size 2, which is [2,3]. To perform the sort, the two elements will need to be compared. For an array of size 2, this is trivial. However, when we get to the full array of size 5, there is no way to keep track of where each element is without using pointers. So, let's take two pointers, i and j."
   ]
  },
  {
   "cell_type": "code",
   "execution_count": null,
   "metadata": {},
   "outputs": [],
   "source": []
  },
  {
   "cell_type": "code",
   "execution_count": null,
   "metadata": {},
   "outputs": [],
   "source": []
  },
  {
   "cell_type": "code",
   "execution_count": null,
   "metadata": {},
   "outputs": [],
   "source": []
  },
  {
   "cell_type": "code",
   "execution_count": null,
   "metadata": {},
   "outputs": [],
   "source": []
  }
 ],
 "metadata": {
  "language_info": {
   "name": "python"
  }
 },
 "nbformat": 4,
 "nbformat_minor": 2
}

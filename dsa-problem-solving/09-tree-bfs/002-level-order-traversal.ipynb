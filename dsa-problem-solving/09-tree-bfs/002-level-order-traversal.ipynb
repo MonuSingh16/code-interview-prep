{
 "cells": [
  {
   "cell_type": "markdown",
   "metadata": {},
   "source": [
    "### Statement\n",
    "\n",
    "Given the root of a binary tree, display the values of its nodes while performing a level order traversal. Return the node values for all levels in a string separated by the character :. If the tree is empty, i.e., the number of nodes is , then return “None” as the output.\n",
    "\n",
    "### Naive Approach\n",
    "\n",
    "The naive approach would be to first calculate the height of the tree and then recursively traverse it, level by level. The printing function would be called for every level in the range [1,height]. In the case of a skewed tree, the time complexity for this approach would be O(n^2)where n is the number of nodes.\n",
    "\n",
    "### Optimized Approach\n",
    "\n",
    "However, since we are asked to print all nodes at the same hierarchical level, this problem naturally falls under the tree breadth-first search pattern. It starts searching at the root node and moves down level by level, exploring adjacent nodes at level k+1. We’ll print all the nodes at each level and then move to the next level.\n",
    "\n",
    "### Step-by-step solution construction\n",
    "1. First, we’ll declare an array of two queues. This step will help us swap values between our two queues later.\n",
    "\n",
    "2. We then declare and point current_queue to the 0th index and next_queue to the 1st index index of the queues array.\n",
    "\n",
    "3. We’ll start by pushing the root node to current_queue and setting the tree level to zero.\n",
    "\n",
    "4. We’ll carry out the following operations until current_queue is empty:\n",
    "\n",
    "    1. Dequeue the first element of current_queue.\n",
    "\n",
    "    2. Enqueue its children to next_queue.\n",
    "\n",
    "    3. Store the dequeued node in result.\n",
    "\n",
    "    4. The loop in the code above runs once, since we only have one node in current_queue. To ensure all the tree nodes are visited, we’ll swap current_queue and next_queue once the former becomes empty.\n",
    "\n",
    "    5. We’ll swap current_queue with next_queue and increment level_number by 1. Since we’re moving to the next level, we’ll also append : to result.\n",
    "    \n",
    "    6. We terminate the loop if current_queue is still empty and return the result.\n",
    "\n",
    "### Time and Space Complexity\n",
    "\n",
    "The time complexity of this solution is linear, O(n), where n is the number of nodes, because every node is visited and printed only once.\n",
    "\n",
    "Space complexity\n",
    "\n",
    "The space complexity of this solution is linear, O(n), since the algorithm instantiates queues that take up space of up to ⌈n/ 2⌉\n",
    "nodes. This is because the maximum queue size occurs at the level of the leaf nodes of a balanced binary tree.\n"
   ]
  },
  {
   "cell_type": "code",
   "execution_count": null,
   "metadata": {},
   "outputs": [],
   "source": []
  },
  {
   "cell_type": "code",
   "execution_count": null,
   "metadata": {},
   "outputs": [],
   "source": []
  },
  {
   "cell_type": "code",
   "execution_count": null,
   "metadata": {},
   "outputs": [],
   "source": []
  },
  {
   "cell_type": "code",
   "execution_count": null,
   "metadata": {},
   "outputs": [],
   "source": []
  },
  {
   "cell_type": "code",
   "execution_count": 41,
   "metadata": {},
   "outputs": [
    {
     "data": {
      "text/html": [
       "<div>\n",
       "<style scoped>\n",
       "    .dataframe tbody tr th:only-of-type {\n",
       "        vertical-align: middle;\n",
       "    }\n",
       "\n",
       "    .dataframe tbody tr th {\n",
       "        vertical-align: top;\n",
       "    }\n",
       "\n",
       "    .dataframe thead th {\n",
       "        text-align: right;\n",
       "    }\n",
       "</style>\n",
       "<table border=\"1\" class=\"dataframe\">\n",
       "  <thead>\n",
       "    <tr style=\"text-align: right;\">\n",
       "      <th>channel</th>\n",
       "      <th>digital</th>\n",
       "      <th>e-mail</th>\n",
       "      <th>manual</th>\n",
       "      <th>others</th>\n",
       "    </tr>\n",
       "  </thead>\n",
       "  <tbody>\n",
       "    <tr>\n",
       "      <th>id_count</th>\n",
       "      <td>2.0</td>\n",
       "      <td>2.0</td>\n",
       "      <td>2.0</td>\n",
       "      <td>3.0</td>\n",
       "    </tr>\n",
       "  </tbody>\n",
       "</table>\n",
       "</div>"
      ],
      "text/plain": [
       "channel   digital  e-mail  manual  others\n",
       "id_count      2.0     2.0     2.0     3.0"
      ]
     },
     "execution_count": 41,
     "metadata": {},
     "output_type": "execute_result"
    }
   ],
   "source": [
    "import pandas as pd\n",
    "import numpy as np\n",
    "import random\n",
    "\n",
    "# Creating a sample data frame, with 2 cols\n",
    "df = pd.DataFrame(\n",
    "    {\n",
    "        'id': random.sample(range(1, 100), 9),\n",
    "        'channel': pd.Categorical([\"e-mail\", \"manual\", \"digital\", \"others\", \"e-mail\",\n",
    "                                   \"manual\", \"others\", \"digital\", \"others\"])\n",
    "    }\n",
    ")\n",
    "# First group by channels and count the number of id for each channel\n",
    "df = df.groupby(by='channel', observed=True).agg({'id': 'count'}).reset_index(names='channel')\n",
    "\n",
    "# Rename the aggregated column\n",
    "df = df.rename(columns={'id':'id_count'})\n",
    "\n",
    "# Pivot the datframe by channel with values from above derived aggregated columns\n",
    "df = df.pivot_table(columns='channel', values='id_count')\n",
    "df"
   ]
  },
  {
   "cell_type": "code",
   "execution_count": null,
   "metadata": {},
   "outputs": [],
   "source": []
  }
 ],
 "metadata": {
  "kernelspec": {
   "display_name": "Python 3",
   "language": "python",
   "name": "python3"
  },
  "language_info": {
   "codemirror_mode": {
    "name": "ipython",
    "version": 3
   },
   "file_extension": ".py",
   "mimetype": "text/x-python",
   "name": "python",
   "nbconvert_exporter": "python",
   "pygments_lexer": "ipython3",
   "version": "3.11.6"
  }
 },
 "nbformat": 4,
 "nbformat_minor": 2
}

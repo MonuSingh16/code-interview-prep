{
 "cells": [
  {
   "cell_type": "markdown",
   "metadata": {},
   "source": [
    "### Statement\n",
    "\n",
    "Given the root of a binary tree, check whether it is a symmetric tree. A symmetric tree refers to a tree that is a mirror of itself, i.e., symmetric around its root.\n",
    "\n",
    "### Solution\n",
    "\n",
    "Starting from the root, we have to check that the left and right subtrees of the tree are mirrors of each other. The tree containing a single element root is always symmetric; we will return TRUE in this case\n",
    "\n",
    "1. We take a queue with root's right and left nodes.\n",
    "2. Iterate a loop till the queue is not empty.\n",
    "3. In each iteration, we dequeue two elements from the queue and store them in two variables, left and right.\n",
    "    1. If both left and right are NULL, it means that the node doesn’t have any child. So, we move to the next interaction.\n",
    "    2. If any from left and right is NULL, it means that either the left child or right child of the node doesn’t exist, which leads us to the conclusion that the tree is not symmetric; we return FALSE.\n",
    "    3. If the values of left and right are different, it also means that the tree is not symmetric; we return FALSE.\n",
    "4. Then, we append the left node of left, the right node of right, the left node of right, and the right node of left in the queue in the same order, and we move to the next interaction.\n",
    "5. After completing all interactions, if the algorithm is not returned from any step, this indicates that the tree is symmetric, so we return TRUE.\n",
    "\n",
    "### Time and Space\n",
    "\n",
    "The time complexity of this solution is O(n), where n is the total number of nodes in the tree. This is because we traverse the entire tree once. \n",
    "\n",
    "Additional space is required to store a maximum of n elements in the queue, where n is the total number of nodes in the tree. So, the space complexity of this solution is O(n)\n"
   ]
  },
  {
   "cell_type": "code",
   "execution_count": null,
   "metadata": {},
   "outputs": [],
   "source": []
  },
  {
   "cell_type": "code",
   "execution_count": null,
   "metadata": {},
   "outputs": [],
   "source": []
  },
  {
   "cell_type": "code",
   "execution_count": null,
   "metadata": {},
   "outputs": [],
   "source": []
  }
 ],
 "metadata": {
  "language_info": {
   "name": "python"
  }
 },
 "nbformat": 4,
 "nbformat_minor": 2
}

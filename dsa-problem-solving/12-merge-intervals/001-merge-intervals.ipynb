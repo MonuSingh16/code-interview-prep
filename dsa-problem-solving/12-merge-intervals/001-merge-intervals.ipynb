{
 "cells": [
  {
   "cell_type": "markdown",
   "metadata": {},
   "source": [
    "### Statement\n",
    "\n",
    "We are given an array of closed intervals, intervals, where each interval has a start time and an end time. The input array is sorted with respect to the start times of each interval. For example, intervals = [[1, 4], [3, 6], [7, 9]] is sorted in terma of start time. \n",
    "\n",
    "Your task is to merge the overlapping intervals and return a new output array consisting of only the non-overlapping intervals.\n",
    "\n",
    "### Solution\n",
    "\n",
    "First, we create an output list and copy the first interval of the input list to it. Next, we traverse the remaining intervals of the input list and check whether any interval overlaps with the interval present in the output list. If they overlap, update the interval in the output list. Otherwise, add the current input interval to the output list. Repeat this for all the intervals in the input list. Please note that when we have more than one interval in the output list, we compare the input intervals with the last interval of the output list.\n",
    "\n",
    "1. [3, 7] overlaps with [1, 5]. Merge the two and update the ending timestamp of the last interval in the output list to 7.\n",
    "2. [4, 6] overlaps with [1, 7]. Merge the two. However, the last intervalin the output list still ends at 7, since it is bigger than 6.\n",
    "3. [6, 8] also overlaps with [1, 7]. Merge the two and update the ending timestamp of the last interval to 8.\n",
    "4. [10, 12] does not overlap with [1, 8], so add it as a new interval to the output list.\n",
    "5. [11, 15] overlaps with [10, 12]. Merge the two and update the last interval, so it ends at 15.\n",
    "\n",
    "The first step is to copy the first interval from the input list to the output list. Next, add a loop to traverse the remaining intervals in the input list. In each iteration, we will use the variable `cur_start` to store the start time and the variable `cur_end` to store the end time of the current input interval. Moreover, to keep track of the end time of the last interval in the output list, we create a variable, `prev_end`. \n",
    "\n"
   ]
  },
  {
   "cell_type": "code",
   "execution_count": null,
   "metadata": {},
   "outputs": [],
   "source": []
  },
  {
   "cell_type": "code",
   "execution_count": null,
   "metadata": {},
   "outputs": [],
   "source": []
  }
 ],
 "metadata": {
  "language_info": {
   "name": "python"
  }
 },
 "nbformat": 4,
 "nbformat_minor": 2
}

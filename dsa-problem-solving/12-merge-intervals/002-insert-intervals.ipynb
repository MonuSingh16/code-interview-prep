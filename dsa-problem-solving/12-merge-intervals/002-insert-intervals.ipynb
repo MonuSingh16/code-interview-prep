{
 "cells": [
  {
   "cell_type": "markdown",
   "metadata": {},
   "source": [
    "### Statement\n",
    "\n",
    "Given a sorted list of nonoverlapping intervals and a new interval, your task is to insert the new interval into the correct position while ensuring that the resulting list of intervals remains sorted and nonoverlapping.\n",
    "\n",
    "Each interval is a pair of nonnegative numbers, the first being the start time and the second being the end time of the interval.\n",
    "\n",
    "### Solution\n",
    "1. We've created a new output array that will contain thecontent of our updated list.\n",
    "2. We add [1, 3] to the output array, since its starting pointis less than the starting point of the interval to be added.\n",
    "3. We verify that the current interval [1, 3] ends before the start of theinterval to be added.\n",
    "4. We add [5, 7] to the output array, since its starting pointis less than the starting point of the interval to be added.\n",
    "5. We verify that the the current interval does not end before the startof the interval to be added.\n",
    "6. We merge the intervals to update our list.\n",
    "7. Finally, we will add the remaining interval in the output list.\n",
    "\n",
    "### Solution summary\n",
    "1. Append all intervals occurring before the new interval to the output list until we find an interval that starts after the starting point of the new interval.\n",
    "2. If there is an overlap between the last interval in the output list and the new interval, merge them by updating the end value of the last interval. Otherwise, append the new interval to the output list.\n",
    "3. Continue iterating through the remaining intervals and merge the overlapping intervals with the last interval in the output list.\n",
    "4. Return the final output list containing the merged intervals."
   ]
  },
  {
   "cell_type": "code",
   "execution_count": null,
   "metadata": {},
   "outputs": [],
   "source": []
  },
  {
   "cell_type": "code",
   "execution_count": null,
   "metadata": {},
   "outputs": [],
   "source": []
  },
  {
   "cell_type": "code",
   "execution_count": null,
   "metadata": {},
   "outputs": [],
   "source": []
  }
 ],
 "metadata": {
  "language_info": {
   "name": "python"
  }
 },
 "nbformat": 4,
 "nbformat_minor": 2
}

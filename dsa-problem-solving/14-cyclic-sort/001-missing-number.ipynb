{
 "cells": [
  {
   "cell_type": "markdown",
   "metadata": {},
   "source": [
    "### Statement\n",
    "\n",
    "Given an array, nums, containing n distinct numbers in the range [0,n], return the only number in the range that is missing from the array. \n",
    "\n",
    "### Solution \n",
    "\n",
    "An efficient approach would be to sort the elements in-place. We can iterate over the array elements one at a time. If the current number is not at its correct index, we swap it with the number at its correct index. This is a classic example of cyclic sort. Hence, the problem fits naturally under the cyclic sort pattern.\n",
    "\n",
    "We’ll iterate over the array elements to place them in the correct positions. Once the array is sorted, we’ll compare the elements with their indices. If the two are not equal, the missing number will be the index of that element.\n",
    "\n",
    "\n",
    "1. Sort the elements in-place.\n",
    "2. Compare the array elements and their indices.\n",
    "3. The index of the first mismatch is the missing number.\n",
    "\n"
   ]
  },
  {
   "cell_type": "code",
   "execution_count": null,
   "metadata": {},
   "outputs": [],
   "source": []
  },
  {
   "cell_type": "code",
   "execution_count": null,
   "metadata": {},
   "outputs": [],
   "source": []
  }
 ],
 "metadata": {
  "language_info": {
   "name": "python"
  }
 },
 "nbformat": 4,
 "nbformat_minor": 2
}

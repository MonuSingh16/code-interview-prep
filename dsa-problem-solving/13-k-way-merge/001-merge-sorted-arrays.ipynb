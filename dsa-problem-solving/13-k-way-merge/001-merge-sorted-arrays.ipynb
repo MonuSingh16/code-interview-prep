{
 "cells": [
  {
   "cell_type": "markdown",
   "metadata": {},
   "source": [
    "### Statement \n",
    "\n",
    "Given two sorted integer arrays `nums1` and `nums2`, and he number of data elements in each array `m`, `n`, implement a function that merges the second array into the first one. You have to modify `nums1` in place\n",
    "\n",
    "### Naive Approach\n",
    "\n",
    "The naive approach here is to append the second list to the first—at a cost of O(n), then sort it using quick sort, at a cost of O((m+n)log(m+n))\n",
    "\n",
    "### Optimized Approach\n",
    "With the k-way merge approach, we iterate over our given arrays using two pointers and merge them in place. The time complexity for this is O(m+n)\n",
    "\n",
    "### Solution\n",
    "\n",
    "- Initialize two pointers that point to the last data elements in both arrays.\n",
    "- Initialize a third pointer that points to the last index of nums1\n",
    "- Traverse nums1 from the end using the third pointer and compare the values corresponding to the first two pointers.\n",
    "- Place the larger of the two values at the third pointer’s index.\n",
    "- Repeat the process until the two arrays are merged."
   ]
  },
  {
   "cell_type": "code",
   "execution_count": null,
   "metadata": {},
   "outputs": [],
   "source": []
  },
  {
   "cell_type": "code",
   "execution_count": null,
   "metadata": {},
   "outputs": [],
   "source": []
  },
  {
   "cell_type": "code",
   "execution_count": null,
   "metadata": {},
   "outputs": [],
   "source": []
  },
  {
   "cell_type": "code",
   "execution_count": null,
   "metadata": {},
   "outputs": [],
   "source": []
  }
 ],
 "metadata": {
  "language_info": {
   "name": "python"
  }
 },
 "nbformat": 4,
 "nbformat_minor": 2
}

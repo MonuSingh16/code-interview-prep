{
 "cells": [
  {
   "cell_type": "markdown",
   "metadata": {},
   "source": [
    "### Multinomial Naive Bayes\n",
    "\n",
    "Create a multinomial Naive Bayes to add tags to articles, where tag reprsents categories that articles should belong to.\n",
    "You will have access to training articles inside dictionary `MultinomialNB.articles_per_tag` mapping tags to the articles belonging to said tags\n",
    "\n",
    "1. The laplacian smotthing hyperparameter has been choosen to be 1 which means when calculating likelihoods, you will be adding 2 to the denominator and 1 to numerator\n",
    "2. If an input to the model contains a word that is not in the trained Naive Bayes Model, that word should be assigned a class probability of 50%\n",
    "3. You should not use TF-IDF\n",
    "4. Encouraged to use `collections` and `math` module"
   ]
  },
  {
   "cell_type": "code",
   "execution_count": null,
   "metadata": {},
   "outputs": [],
   "source": [
    "from collections import defaultdict\n",
    "import math\n",
    "\n",
    "class MultinomialNB:\n",
    "    def __init__(self, articles_per_tag):\n",
    "        # Don't change the following two lines of code.\n",
    "        self.alpha = 1\n",
    "        self.priors_per_tag = {}\n",
    "        self.likelihood_per_word_per_tag = {}\n",
    "        self.articles_per_tag = articles_per_tag  # See question prompt for details.\n",
    "        self.tags = self.articles_per_tag.keys()\n",
    "        self.train()\n",
    "\n",
    "    def train(self):\n",
    "        # Write your code here.\n",
    "        #1. count # of articles in  given tag / count # of articles across all tags\n",
    "        tag_counts_map = {tag: len(self.articles_per_tag[tag]) for tag in self.tags}\n",
    "        self.priors_per_tag = {tag: tag_counts_map[tag] / sum(tag_counts_map.values()) for tag in tag_counts_map.keys()}\n",
    "        self.likelihood_per_word_per_tag = self.__get_word_likelihoods_per_tag()\n",
    "\n",
    "    def predict(self, article):\n",
    "        # Write your code here.\n",
    "        posteriors_per_tag = {tag: math.log(prior) for tag, prior in self.priors_per_tag.items()}\n",
    "        for word in article:\n",
    "            for tag in self.tags:\n",
    "                posteriors_per_tag[tag] = posteriors_per_tag[tag] + math.log(\n",
    "                    self.likelihood_per_word_per_tag[word][tag]\n",
    "                )\n",
    "        return posteriors_per_tag\n",
    "\n",
    "    def __get_word_likelihoods_per_tag(self):\n",
    "        word_frequencies_per_tag = defaultdict(lambda: {tag: 0 for tag in self.tags})\n",
    "        total_word_count_per_tag = defaultdict(int)\n",
    "        for tag in self.tags:\n",
    "            for article in self.articles_per_tag[tag]:\n",
    "                for word in article:\n",
    "                    word_frequencies_per_tag[word][tag] += 1\n",
    "                    total_word_count_per_tag[tag] += 1\n",
    "        word_likelihood_per_tag = defaultdict(lambda: {tag: 0.5 for tag in self.tags})\n",
    "        for word, tags_map in word_frequencies_per_tag.items():\n",
    "            for tag in tags_map.keys():\n",
    "                word_likelihood_per_tag[word][tag] = (word_frequencies_per_tag[word][tag] + 1 * self.alpha)/ (\n",
    "                        total_word_count_per_tag[tag] + 2 * self.alpha)\n",
    "\n",
    "        return word_likelihood_per_tag"
   ]
  }
 ],
 "metadata": {
  "language_info": {
   "name": "python"
  }
 },
 "nbformat": 4,
 "nbformat_minor": 2
}

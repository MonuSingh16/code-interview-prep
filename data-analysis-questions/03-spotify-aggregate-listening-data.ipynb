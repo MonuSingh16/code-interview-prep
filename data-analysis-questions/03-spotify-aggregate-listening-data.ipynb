{
 "cells": [
  {
   "cell_type": "markdown",
   "metadata": {},
   "source": [
    "### Aggregate Listening Data\n",
    "\n",
    "You're tasked with analyzing a Spotify-like dataset that captures user listening habits.\n",
    "For each user, calculate the total listening time and the count of unique songs they've listened to. Round the total listening duration to the nearest whole minute.\n",
    "\n",
    "\n",
    "The output should contain three columns: 'user_id', 'total_listen_duration', and 'unique_song_count'."
   ]
  },
  {
   "cell_type": "markdown",
   "metadata": {},
   "source": [
    "### SQL Solution\n",
    "\n",
    "```\n",
    "select \n",
    "    user_id,\n",
    "    round(sum(ifnull(listen_duration, 0)) / 60.0) as total_listen_duration,\n",
    "    count(distinct(song_id)) as unique_song_count\n",
    "from listening_habits\n",
    "group by user_id\n",
    "```"
   ]
  },
  {
   "cell_type": "markdown",
   "metadata": {},
   "source": [
    "### Python Solution"
   ]
  },
  {
   "cell_type": "code",
   "execution_count": null,
   "metadata": {},
   "outputs": [],
   "source": [
    "# Import your libraries\n",
    "import pandas as pd\n",
    "listening_habits = pd.DataFrame()\n",
    "\n",
    "# Start writing code\n",
    "# Replacing NaN values with 0 in listen_durations\n",
    "listening_habits['listen_duration'].fillna(0, inplace=True)\n",
    "\n",
    "# Grouping by user_id\n",
    "grouped_data = listening_habits.groupby(\"user_id\").agg(\n",
    "    total_listen_duration=('listen_duration', 'sum'),\n",
    "    unique_song_count=('song_id', 'nunique')\n",
    ").reset_index()\n",
    "\n",
    "# Rounding total_listen_duration to the nearest minute\n",
    "grouped_data['total_listen_duration'] = (grouped_data['total_listen_duration'] / 60).round()\n",
    "\n",
    "grouped_data"
   ]
  },
  {
   "cell_type": "code",
   "execution_count": null,
   "metadata": {},
   "outputs": [],
   "source": [
    "    "
   ]
  }
 ],
 "metadata": {
  "kernelspec": {
   "display_name": "Python 3",
   "language": "python",
   "name": "python3"
  },
  "language_info": {
   "codemirror_mode": {
    "name": "ipython",
    "version": 3
   },
   "file_extension": ".py",
   "mimetype": "text/x-python",
   "name": "python",
   "nbconvert_exporter": "python",
   "pygments_lexer": "ipython3",
   "version": "3.11.6"
  }
 },
 "nbformat": 4,
 "nbformat_minor": 2
}

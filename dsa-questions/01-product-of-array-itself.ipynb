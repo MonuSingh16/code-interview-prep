{
  "cells": [
    {
      "cell_type": "markdown",
      "metadata": {},
      "source": [
        "## Product of Array Except Self\n",
        "\n",
        "Given an integer array nums, return an array answer such that answer[i] is equal to the product of all the elements of nums except nums[i].\n",
        "\n",
        "The product of any prefix or suffix of nums is guaranteed to fit in a 32-bit integer.\n",
        "\n",
        "You must write an algorithm that runs in O(n) time and without using the division operation."
      ]
    },
    {
      "cell_type": "markdown",
      "metadata": {},
      "source": [
        "First, we'll create a \u201cleft_products\u201d array where each element at index i represents the product of all elements to the left of nums[i].\n",
        "\n",
        "Then, we'll create a \u201cright_products\u201d array where each element at index i represents the product of all elements to the right of nums[i].\n",
        "\n",
        "Finally, we'll compute the result array \u201canswer\u201d by multiplying corresponding elements from left_products and right_products.\n",
        "\n",
        "Time complexity of this solution is O(n)."
      ]
    },
    {
      "cell_type": "code",
      "execution_count": 1,
      "metadata": {},
      "outputs": [],
      "source": [
        "from typing import List\n",
        "\n",
        "def productExceptSelf(nums: List[int]) -> List[int]:\n",
        "    n = len(nums)\n",
        "\n",
        "    # initialize left product and right product arrays\n",
        "    left_products = [1] * n\n",
        "    right_products = [1] * n\n",
        "\n",
        "    # compute left products\n",
        "    for i in range(1, n):\n",
        "        left_products[i] = left_products[i - 1] * nums[i - 1]\n",
        "\n",
        "    # compute right products\n",
        "    for i in range(n - 2, -1, -1):\n",
        "        right_products[i] = right_products[i + 1] * nums[i + 1]\n",
        "\n",
        "    # compute answers\n",
        "    answer = [left_products[i] * right_products[i] for i in range(n)]\n",
        "\n",
        "    return answer"
      ]
    },
    {
      "cell_type": "code",
      "execution_count": null,
      "metadata": {},
      "outputs": [],
      "source": []
    }
  ],
  "metadata": {
    "kernelspec": {
      "display_name": "Python 3",
      "language": "python",
      "name": "python3"
    },
    "language_info": {
      "codemirror_mode": {
        "name": "ipython",
        "version": 3
      },
      "file_extension": ".py",
      "mimetype": "text/x-python",
      "name": "python",
      "nbconvert_exporter": "python",
      "pygments_lexer": "ipython3",
      "version": "3.11.6"
    }
  },
  "nbformat": 4,
  "nbformat_minor": 2
}

{
 "cells": [
  {
   "cell_type": "markdown",
   "metadata": {},
   "source": [
    "### 7 Sided Dice Roll\n",
    "\n",
    "Write a function that simulates a 7-sided die roll using a 6-sided die. You will need to show that the outcomes of the 7-sided die from your function are equally likely by generating a simulation with 10,000 trials of the function call.\n",
    "\n",
    "Output a list of proportions with the first element array representing side 1 and the last element representing side 7. Round the proportions to three decimal places.\n",
    "\n",
    "You may use the random.randint(1, 6) from the random library to roll a 6-sided die, but do not use random.randint(1, 7).\n"
   ]
  },
  {
   "cell_type": "code",
   "execution_count": null,
   "metadata": {},
   "outputs": [],
   "source": [
    "# Set the random seed\n",
    "import random\n",
    "\n",
    "random.seed(123)\n",
    "\n",
    "# Input:\n",
    "k = 1000 # 10,000 trials of the function that simulates a 7-sided dice\n",
    "\n",
    "# Output: [0.137, 0.146, 0.144, 0.144, 0.146, 0.138, 0.142, 0.148]\n"
   ]
  },
  {
   "cell_type": "code",
   "execution_count": 2,
   "metadata": {},
   "outputs": [
    {
     "name": "stdout",
     "output_type": "stream",
     "text": [
      "[0.167, 0.164, 0.165, 0.163, 0.165, 0.176]\n"
     ]
    }
   ],
   "source": [
    "import random\n",
    "random.seed(123)\n",
    "\n",
    "def six_sided_die():\n",
    "    return random.randint(1, 6)\n",
    "\n",
    "trials = 10_000\n",
    "counts = [0] * 6\n",
    "for i in range(trials):\n",
    "    # Roll a die\n",
    "    outcome = six_sided_die()\n",
    "    # Update the count based on outcome\n",
    "    counts[outcome - 1] += 1\n",
    "\n",
    "proportions = [round(c / trials, 3) for c in counts]\n",
    "print(proportions)"
   ]
  },
  {
   "cell_type": "code",
   "execution_count": null,
   "metadata": {},
   "outputs": [],
   "source": [
    "# Conceptually to emulate 7 sided in the throw -\n",
    "\"\"\"\n",
    "1, 1 = 1\n",
    "1, 2 = 2\n",
    "1, 3 = 3\n",
    "1, 4 = 4\n",
    "1, 5 = 5\n",
    "1, 6 = 6\n",
    "2, 1 = 7\n",
    "2, 2 = Discard \n",
    ".....\n",
    "\"\"\"\n",
    "# So we are ideally discard those situations where throw of die does not map to anyone of the above said\n"
   ]
  },
  {
   "cell_type": "code",
   "execution_count": 5,
   "metadata": {},
   "outputs": [
    {
     "name": "stdout",
     "output_type": "stream",
     "text": [
      "[0.137, 0.146, 0.144, 0.146, 0.138, 0.142, 0.148]\n"
     ]
    }
   ],
   "source": [
    "import random\n",
    "random.seed(123)\n",
    "\n",
    "def six_sided_die():\n",
    "    return random.randint(1, 6)\n",
    "\n",
    "def seven_sided_die():\n",
    "    result = {\n",
    "        (1, 1): 1,\n",
    "        (1, 2): 2,\n",
    "        (1, 3): 3,\n",
    "        (1, 4): 4,\n",
    "        (1, 5): 5,\n",
    "        (1, 6): 6,\n",
    "        (2, 1): 7\n",
    "    }\n",
    "    while True:\n",
    "        # Roll Twice\n",
    "        o1 = six_sided_die()\n",
    "        o2 = six_sided_die()\n",
    "        try:\n",
    "            return result[(o1, o2)]\n",
    "        except:  # noqa: E722\n",
    "            return seven_sided_die()\n",
    "\n",
    "\n",
    "trials = 10_000\n",
    "counts = [0] * 7\n",
    "for i in range(trials):\n",
    "    # Roll a die\n",
    "    outcome = seven_sided_die()\n",
    "    # Update the count based on outcome\n",
    "    counts[outcome - 1] += 1\n",
    "\n",
    "proportions = [round(c / trials, 3) for c in counts]\n",
    "print(proportions)"
   ]
  },
  {
   "cell_type": "code",
   "execution_count": null,
   "metadata": {},
   "outputs": [],
   "source": []
  }
 ],
 "metadata": {
  "kernelspec": {
   "display_name": "Python 3",
   "language": "python",
   "name": "python3"
  },
  "language_info": {
   "codemirror_mode": {
    "name": "ipython",
    "version": 3
   },
   "file_extension": ".py",
   "mimetype": "text/x-python",
   "name": "python",
   "nbconvert_exporter": "python",
   "pygments_lexer": "ipython3",
   "version": "3.11.6"
  }
 },
 "nbformat": 4,
 "nbformat_minor": 2
}

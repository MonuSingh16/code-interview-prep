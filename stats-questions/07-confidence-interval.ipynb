{
 "cells": [
  {
   "cell_type": "markdown",
   "metadata": {},
   "source": [
    "### Confidence Interval\n",
    "\n",
    "What does the 95% confidence interval mean? Suppose that the distribution of a population is normal with a mean of 100 and standard deviation of 10. How would you write a simulation that demonstrates that the 95% confidence interval of the mean contains the true mean about 95% of the time?\n",
    "\n",
    "```py\n",
    "# Import libraries\n",
    "import numpy as np\n",
    "import scipy.stats as sci\n",
    "\n",
    "# Set the random seed\n",
    "np.random.seed(111)\n",
    "```"
   ]
  },
  {
   "cell_type": "code",
   "execution_count": 5,
   "metadata": {},
   "outputs": [
    {
     "name": "stdout",
     "output_type": "stream",
     "text": [
      "Based on simulation 1000 trials, the true population mean, \n",
      "100, is found in the 0.95 confidence interval about \n",
      "95.5% of the time\n"
     ]
    }
   ],
   "source": [
    "# Import Libraries\n",
    "import numpy as np\n",
    "import scipy.stats as sci\n",
    "\n",
    "# Set the random seed\n",
    "np.random.seed(111)\n",
    "\n",
    "# Set the simulation parameters\n",
    "pop_mean = 100\n",
    "pop_std = 10\n",
    "sample_size = 100 # Sample Size\n",
    "num_samples = 1000 # Number of samples in the simulation\n",
    "alpha = 0.05 # Set the alpha\n",
    "\n",
    "# Run Simulations\n",
    "mean_in_interval = 0 # Count the number of times the pop.mean is in the CI interval\n",
    "for i in range(num_samples):\n",
    "    # Sample 100 observation from a normal distribution\n",
    "    obs = np.random.normal(loc = 100, scale=10, size=sample_size)\n",
    "    # Get the mean and standard error\n",
    "    sample_mean = np.mean(obs)\n",
    "    standard_error = sci.sem(obs) # measures standard error\n",
    "    # Generate the 95% confidence interval of the mean\n",
    "    lower, upper = sci.t.interval(confidence=(1-alpha),\n",
    "                                  df = sample_size-1, loc=sample_mean,\n",
    "                                  scale=standard_error)\n",
    "    # Count of number of instances when bound\n",
    "    if pop_mean > lower and pop_mean < upper :\n",
    "        mean_in_interval += 1\n",
    "\n",
    "# Generate the proportion of the times the pop.mean is in the CI interval\n",
    "proportion = mean_in_interval / num_samples\n",
    "print(f'Based on simulation {num_samples} trials, the true population mean, \\n'\n",
    "      f'{pop_mean}, is found in the {1-alpha} confidence interval about \\n'\n",
    "       f'{proportion*100}% of the time')"
   ]
  },
  {
   "cell_type": "code",
   "execution_count": null,
   "metadata": {},
   "outputs": [],
   "source": []
  },
  {
   "cell_type": "code",
   "execution_count": null,
   "metadata": {},
   "outputs": [],
   "source": []
  },
  {
   "cell_type": "code",
   "execution_count": null,
   "metadata": {},
   "outputs": [],
   "source": []
  },
  {
   "cell_type": "code",
   "execution_count": null,
   "metadata": {},
   "outputs": [],
   "source": []
  }
 ],
 "metadata": {
  "kernelspec": {
   "display_name": "Python 3",
   "language": "python",
   "name": "python3"
  },
  "language_info": {
   "codemirror_mode": {
    "name": "ipython",
    "version": 3
   },
   "file_extension": ".py",
   "mimetype": "text/x-python",
   "name": "python",
   "nbconvert_exporter": "python",
   "pygments_lexer": "ipython3",
   "version": "3.11.6"
  }
 },
 "nbformat": 4,
 "nbformat_minor": 2
}

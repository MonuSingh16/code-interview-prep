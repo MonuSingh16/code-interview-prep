{
 "cells": [
  {
   "cell_type": "markdown",
   "metadata": {},
   "source": [
    "### Median Sorted Arrays\n",
    "\n",
    "Find the median of two sorted arrays.\n",
    "\n",
    "\n",
    "### Constraints\n",
    "\n",
    "1. The input variables nums1 and nums2 are both lists of integers.\n",
    "2. The lists nums1 and nums2 are sorted in ascending order.\n",
    "3. The lengths of nums1 and nums2 can be different.\n",
    "4. The lengths of nums1 and nums2 can be zero (empty lists).\n",
    "5. The integers in nums1 and nums2 can be positive, negative, or zero.\n",
    "6. The integers in nums1 and nums2 can be duplicates."
   ]
  },
  {
   "cell_type": "code",
   "execution_count": null,
   "metadata": {},
   "outputs": [],
   "source": [
    "def findMedianArray(input):\n",
    "    \"\"\"\n",
    "    :type input: Dict[str, List[int]]\n",
    "    :rtype: float\n",
    "\n",
    "    \"\"\"\n",
    "\n",
    "    num1 = input[\"num1\"]\n",
    "    num2 = input[\"num2\"]\n",
    "\n",
    "    merged = sorted(num1 + num2)\n",
    "    n = len(merged)\n",
    "\n",
    "    if n % 2 == 0:\n",
    "        return (merged[n//2 -1] + merged[n//2]) / 2\n",
    "    else:\n",
    "        return merged[n//2]"
   ]
  },
  {
   "cell_type": "code",
   "execution_count": null,
   "metadata": {},
   "outputs": [],
   "source": []
  },
  {
   "cell_type": "code",
   "execution_count": null,
   "metadata": {},
   "outputs": [],
   "source": []
  }
 ],
 "metadata": {
  "language_info": {
   "name": "python"
  }
 },
 "nbformat": 4,
 "nbformat_minor": 2
}

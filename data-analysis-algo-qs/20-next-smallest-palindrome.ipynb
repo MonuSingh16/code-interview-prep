{
 "cells": [
  {
   "cell_type": "markdown",
   "metadata": {},
   "source": [
    "### Next Smallest Palindrome\n",
    "\n",
    "Given a number as an input, find the following smallest palindrome number. For simplicity, consider the upper limit of your search to be 1 million.\n",
    "\n",
    "### Constraints\n",
    "\n",
    "1. The input variable n is an integer.\n",
    "2. The value of n should be within the range of 0 to 1 million (inclusive).a"
   ]
  },
  {
   "cell_type": "code",
   "execution_count": 2,
   "metadata": {},
   "outputs": [],
   "source": [
    "def next_palindrome(n):\n",
    "    \"\"\"\n",
    "    : type : n - int\n",
    "    : rtype : int\n",
    "\n",
    "    \"\"\"\n",
    "    while True: # infinte loop\n",
    "        n += 1\n",
    "        if str(n) == str(n)[::-1]:\n",
    "            return n # loop ends"
   ]
  },
  {
   "cell_type": "code",
   "execution_count": 3,
   "metadata": {},
   "outputs": [
    {
     "data": {
      "text/plain": [
       "124421"
      ]
     },
     "execution_count": 3,
     "metadata": {},
     "output_type": "execute_result"
    }
   ],
   "source": [
    "n = 123456\n",
    "next_palindrome(n)"
   ]
  },
  {
   "cell_type": "code",
   "execution_count": null,
   "metadata": {},
   "outputs": [],
   "source": []
  }
 ],
 "metadata": {
  "kernelspec": {
   "display_name": "Python 3",
   "language": "python",
   "name": "python3"
  },
  "language_info": {
   "codemirror_mode": {
    "name": "ipython",
    "version": 3
   },
   "file_extension": ".py",
   "mimetype": "text/x-python",
   "name": "python",
   "nbconvert_exporter": "python",
   "pygments_lexer": "ipython3",
   "version": "3.11.6"
  }
 },
 "nbformat": 4,
 "nbformat_minor": 2
}

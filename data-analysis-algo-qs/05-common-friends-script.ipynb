{
 "cells": [
  {
   "cell_type": "markdown",
   "metadata": {},
   "source": [
    "### Common Friends Script\n",
    "\n",
    "You are analyzing a social network dataset at Google. Your task is to find mutual friends between two users, Karl and Hans. There is only one user named Karl and one named Hans in the dataset.\n",
    "\n",
    "The output should contain 'user_id' and 'user_name' columns."
   ]
  },
  {
   "cell_type": "markdown",
   "metadata": {},
   "source": [
    "### SQL Solution"
   ]
  },
  {
   "cell_type": "markdown",
   "metadata": {},
   "source": [
    "```\n",
    "with cte as (select friend_id from friends\n",
    "where user_id in (select user_id from users where user_name = 'Karl')\n",
    "INTERSECT\n",
    "select friend_id from friends\n",
    "where user_id in (select user_id from users where user_name = 'Hans')\n",
    ")\n",
    "select friend_id , user_name\n",
    "from cte join users on friend_id = user_id\n",
    "```"
   ]
  },
  {
   "cell_type": "markdown",
   "metadata": {},
   "source": [
    "### Python Solutions"
   ]
  },
  {
   "cell_type": "code",
   "execution_count": 1,
   "metadata": {},
   "outputs": [],
   "source": [
    "# Import your libraries\n",
    "import pandas as pd\n",
    "\n",
    "# Finding the user IDs for Karl and Hans\n",
    "karl_id = users[users['user_name'] == 'Karl']['user_id'].iloc[0]\n",
    "hans_id = users[users['user_name'] == 'Hans']['user_id'].iloc[0]\n",
    "\n",
    "# Find friends of Karl and Hans\n",
    "karl_friends = friends[friends['user_id'] == karl_id]['friend_id'].tolist()\n",
    "hans_friends = friends[friends['user_id'] == hans_id]['friend_id'].tolist()\n",
    "\n",
    "# Find Mutual friends' ID\n",
    "mutual_friends_id = list(set(karl_friends).intersection(hans_friends))\n",
    "\n",
    "# Get mutual friends' user names\n",
    "mutual_friends = users[users['user_id'].isin(mutual_friends_id)]\n",
    "\n",
    "mutual_friends"
   ]
  },
  {
   "cell_type": "code",
   "execution_count": null,
   "metadata": {},
   "outputs": [],
   "source": []
  }
 ],
 "metadata": {
  "kernelspec": {
   "display_name": "Python 3",
   "language": "python",
   "name": "python3"
  },
  "language_info": {
   "codemirror_mode": {
    "name": "ipython",
    "version": 3
   },
   "file_extension": ".py",
   "mimetype": "text/x-python",
   "name": "python",
   "nbconvert_exporter": "python",
   "pygments_lexer": "ipython3",
   "version": "3.11.6"
  }
 },
 "nbformat": 4,
 "nbformat_minor": 2
}

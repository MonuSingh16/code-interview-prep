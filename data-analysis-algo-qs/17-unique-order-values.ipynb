{
 "cells": [
  {
   "cell_type": "markdown",
   "metadata": {},
   "source": [
    "### Unique Order Values\n",
    "\n",
    "Find unique values in a given list.\n",
    "\n",
    "### Constraints\n",
    "\n",
    "1. The input variable must be a list of integers.\n",
    "2. There are no constraints on the length of the input list.\n",
    "3. The input list can contain both positive and negative integers.\n",
    "4. The input list can contain duplicate values.\n",
    "5. The order of the elements in the input list must be preserved in the output list."
   ]
  },
  {
   "cell_type": "code",
   "execution_count": 1,
   "metadata": {},
   "outputs": [],
   "source": [
    "def non_duplicate(input):\n",
    "    \"\"\"\n",
    "    \n",
    "    \"\"\"\n",
    "    seen = set()\n",
    "    # seen_add = seen.add\n",
    "\n",
    "    for val in input:\n",
    "        if val not in seen:\n",
    "            seen.add(val)\n",
    "            \n",
    "    return [x for x in seen]"
   ]
  },
  {
   "cell_type": "code",
   "execution_count": 2,
   "metadata": {},
   "outputs": [
    {
     "data": {
      "text/plain": [
       "{-1, 1, 2, 5}"
      ]
     },
     "execution_count": 2,
     "metadata": {},
     "output_type": "execute_result"
    }
   ],
   "source": [
    "input = [5, 1, -1, 2, 5, 1, 2]\n",
    "non_duplicate(input)"
   ]
  },
  {
   "cell_type": "code",
   "execution_count": null,
   "metadata": {},
   "outputs": [],
   "source": [
    "def non_duplicate(input):\n",
    "    \"\"\"\n",
    "    :type input: List[int]\n",
    "    :rtype: List[int]\n",
    "\n",
    "    \"\"\"\n",
    "    seen = set()\n",
    "    seen_add = seen.add\n",
    "\n",
    "    return [x for x in input if not(x in seen or seen_add(x))]"
   ]
  }
 ],
 "metadata": {
  "kernelspec": {
   "display_name": "Python 3",
   "language": "python",
   "name": "python3"
  },
  "language_info": {
   "codemirror_mode": {
    "name": "ipython",
    "version": 3
   },
   "file_extension": ".py",
   "mimetype": "text/x-python",
   "name": "python",
   "nbconvert_exporter": "python",
   "pygments_lexer": "ipython3",
   "version": "3.11.6"
  }
 },
 "nbformat": 4,
 "nbformat_minor": 2
}

{
 "cells": [
  {
   "cell_type": "markdown",
   "metadata": {},
   "source": [
    "### Merge Sorted Arrays\n",
    "\n",
    "Combine two sorted arrays to form 1 sorted array.\n",
    "\n"
   ]
  },
  {
   "cell_type": "code",
   "execution_count": 1,
   "metadata": {},
   "outputs": [],
   "source": [
    "def merge_sorted_arrays(input):\n",
    "    arr1 = input[0]\n",
    "    arr2 = input[1]\n",
    "    \n",
    "    merged_array = []\n",
    "    i = 0  # Index for arr1\n",
    "    j = 0  # Index for arr2\n",
    "\n",
    "    while i < len(arr1) and j < len(arr2):\n",
    "        if arr1[i] <= arr2[j]:\n",
    "            merged_array.append(arr1[i])\n",
    "            i += 1\n",
    "        else:\n",
    "            merged_array.append(arr2[j])\n",
    "            j += 1\n",
    "\n",
    "    # Append the remaining elements of arr1, if any\n",
    "    while i < len(arr1):\n",
    "        merged_array.append(arr1[i])\n",
    "        i += 1\n",
    "\n",
    "    # Append the remaining elements of arr2, if any\n",
    "    while j < len(arr2):\n",
    "        merged_array.append(arr2[j])\n",
    "        j += 1\n",
    "\n",
    "    return merged_array"
   ]
  },
  {
   "cell_type": "code",
   "execution_count": null,
   "metadata": {},
   "outputs": [],
   "source": []
  }
 ],
 "metadata": {
  "kernelspec": {
   "display_name": "Python 3",
   "language": "python",
   "name": "python3"
  },
  "language_info": {
   "codemirror_mode": {
    "name": "ipython",
    "version": 3
   },
   "file_extension": ".py",
   "mimetype": "text/x-python",
   "name": "python",
   "nbconvert_exporter": "python",
   "pygments_lexer": "ipython3",
   "version": "3.11.6"
  }
 },
 "nbformat": 4,
 "nbformat_minor": 2
}

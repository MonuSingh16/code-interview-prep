{
 "cells": [
  {
   "cell_type": "markdown",
   "metadata": {},
   "source": [
    "### Statement \n",
    "\n",
    "Given a list of values containing NULLs, for every null value, replace it with its preceding non-null value.\n",
    "\n",
    "### Constraints\n",
    "\n",
    "1. The input variable lst is a list.\n",
    "2. The elements of lst can be either integers or None.\n",
    "3. The length of lst can be any positive integer.\n",
    "4. The list lst may contain multiple consecutive None values.\n",
    "5. The list lst may start with a None value.\n",
    "6. The list lst may end with a None value."
   ]
  },
  {
   "cell_type": "code",
   "execution_count": 2,
   "metadata": {},
   "outputs": [],
   "source": [
    "def replace_null_values(lst):\n",
    "    \n",
    "    \"\"\"\n",
    "    :type lst: List[Union[int, None]]\n",
    "    :rtype: List[Union[int, None]]\n",
    "\n",
    "    \"\"\"\n",
    "    # Start loop with second element\n",
    "    for i in range(1, len(lst)):\n",
    "        # if current element is None\n",
    "        if lst[i] is None:\n",
    "            # Replace with preceeding value\n",
    "            lst[i] = lst[i-1]\n",
    "\n",
    "    return lst\n"
   ]
  },
  {
   "cell_type": "code",
   "execution_count": null,
   "metadata": {},
   "outputs": [],
   "source": []
  }
 ],
 "metadata": {
  "kernelspec": {
   "display_name": "Python 3",
   "language": "python",
   "name": "python3"
  },
  "language_info": {
   "codemirror_mode": {
    "name": "ipython",
    "version": 3
   },
   "file_extension": ".py",
   "mimetype": "text/x-python",
   "name": "python",
   "nbconvert_exporter": "python",
   "pygments_lexer": "ipython3",
   "version": "3.11.6"
  }
 },
 "nbformat": 4,
 "nbformat_minor": 2
}

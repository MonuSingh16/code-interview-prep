{
 "cells": [
  {
   "cell_type": "markdown",
   "metadata": {},
   "source": [
    "### Palindrome Checker\n",
    "\n",
    "Check if a given input is a palindrome.\n",
    "\n",
    "### Constraints\n",
    "The input variable s must be a string.\n"
   ]
  },
  {
   "cell_type": "code",
   "execution_count": null,
   "metadata": {},
   "outputs": [],
   "source": [
    "def is_palindrome(s):\n",
    "    \"\"\"\n",
    "    : type s: str\n",
    "    : rtype : bool\n",
    "    \n",
    "    \"\"\"\n",
    "    # s[start:stop:step]\n",
    "    # Here, start - : omitted, Hence 0\n",
    "    # end - : omitted, Hence len(s) - 1\n",
    "    # step - reverse\n",
    "\n",
    "    return (s == s[::-1])"
   ]
  },
  {
   "cell_type": "code",
   "execution_count": null,
   "metadata": {},
   "outputs": [],
   "source": []
  }
 ],
 "metadata": {
  "language_info": {
   "name": "python"
  }
 },
 "nbformat": 4,
 "nbformat_minor": 2
}

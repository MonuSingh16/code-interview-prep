{
 "cells": [
  {
   "cell_type": "markdown",
   "metadata": {},
   "source": [
    "### Alphabet Sum\n",
    "\n",
    "Given a list of strings of letters from a to z, create a function, sum_alphabet, that returns a list of the alphabet sum of each word in the string.\n",
    "\n",
    "The alphabet sum is the sum of the ordinal position of each of the string’s letters in the standard English alphabet ordering. So, the letter a will have a value of 1, z will have a value of 26, and so on.\n",
    "\n",
    "As an example of the alphabet sum of a string, the string sport will have an alphabet sum of 19 + 16 + 15 + 18 + 20 = 88.\n",
    "\n",
    "`words = [\"sport\" , \"good\" , \"bad\"]`"
   ]
  },
  {
   "cell_type": "code",
   "execution_count": 11,
   "metadata": {},
   "outputs": [
    {
     "data": {
      "text/plain": [
       "[88, 41, 7]"
      ]
     },
     "execution_count": 11,
     "metadata": {},
     "output_type": "execute_result"
    }
   ],
   "source": [
    "import string\n",
    "\n",
    "def alphabet_values(words):\n",
    "    alphabet = list(string.ascii_lowercase)\n",
    "    alphabet_values = dict(zip(alphabet, range(1, 27)))\n",
    "    output = []\n",
    "    for word in words:\n",
    "        word_sum = 0\n",
    "        for letter in word:\n",
    "            word_sum += alphabet_values[letter]\n",
    "        output.append(word_sum)\n",
    "\n",
    "    return output\n",
    "\n",
    "words = [\"sport\" , \"good\" , \"bad\"]\n",
    "alphabet_values(words)"
   ]
  }
 ],
 "metadata": {
  "kernelspec": {
   "display_name": "Python 3",
   "language": "python",
   "name": "python3"
  },
  "language_info": {
   "codemirror_mode": {
    "name": "ipython",
    "version": 3
   },
   "file_extension": ".py",
   "mimetype": "text/x-python",
   "name": "python",
   "nbconvert_exporter": "python",
   "pygments_lexer": "ipython3",
   "version": "3.11.6"
  }
 },
 "nbformat": 4,
 "nbformat_minor": 2
}

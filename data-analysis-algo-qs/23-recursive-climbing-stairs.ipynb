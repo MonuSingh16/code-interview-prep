{
 "cells": [
  {
   "cell_type": "markdown",
   "metadata": {},
   "source": [
    "### Recursive Climbing Stairs\n",
    "\n",
    "\"A person has to climb the stairs. They can climb either 1 or 2 steps at each step. Use recursion to count the number of different ways a person can climb steps.\n"
   ]
  },
  {
   "cell_type": "code",
   "execution_count": 1,
   "metadata": {},
   "outputs": [],
   "source": [
    "def count_ways(n):\n",
    "    \"\"\"\n",
    "    :type n: int\n",
    "    :rtype : int\n",
    "    \"\"\"\n",
    "    if n <= 1:\n",
    "        return 1\n",
    "    else:\n",
    "        return count_ways(n-1) + count_ways(n-2)"
   ]
  },
  {
   "cell_type": "code",
   "execution_count": null,
   "metadata": {},
   "outputs": [],
   "source": []
  }
 ],
 "metadata": {
  "kernelspec": {
   "display_name": "Python 3",
   "language": "python",
   "name": "python3"
  },
  "language_info": {
   "codemirror_mode": {
    "name": "ipython",
    "version": 3
   },
   "file_extension": ".py",
   "mimetype": "text/x-python",
   "name": "python",
   "nbconvert_exporter": "python",
   "pygments_lexer": "ipython3",
   "version": "3.11.6"
  }
 },
 "nbformat": 4,
 "nbformat_minor": 2
}

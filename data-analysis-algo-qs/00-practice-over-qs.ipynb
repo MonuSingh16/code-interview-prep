{
 "cells": [
  {
   "cell_type": "code",
   "execution_count": 3,
   "metadata": {},
   "outputs": [
    {
     "name": "stdout",
     "output_type": "stream",
     "text": [
      "{1: 1}\n",
      "{1: 1, 5: 1}\n",
      "{1: 1, 5: 1, 3: 1}\n",
      "{1: 1, 5: 1, 3: 1, 4: 1}\n",
      "{1: 1, 5: 1, 3: 1, 4: 1, 2: 1}\n",
      "{1: 1, 5: 1, 3: 1, 4: 1, 2: 2}\n",
      "[(5, 3), (1, 3), (4, 2)]\n"
     ]
    }
   ],
   "source": [
    "# ID 10433 - Given an array of integers and a positive integer k, find all distinct pairs of elements whose difference equals k.\n",
    "\n",
    "# Approach -->\n",
    "\n",
    "k = 2\n",
    "arr = [1, 5, 3, 4, 2, 2]\n",
    "result = set()\n",
    "\n",
    "count = {}\n",
    "for num in arr:\n",
    "    count[num] = count.get(num, 0) + 1\n",
    "    print(count)\n",
    "\n",
    "for num in arr:\n",
    "    if num + k in count and (num, num + k) not in result \\\n",
    "        and (num + k, num) not in result:\n",
    "        result.add((num, num+k))\n",
    "\n",
    "    if num - k in count and (num, num - k) not in result \\\n",
    "        and (num - k, num) not in result:\n",
    "        result.add((num, num - k))\n",
    "\n",
    "print(list(result))"
   ]
  },
  {
   "cell_type": "code",
   "execution_count": null,
   "metadata": {},
   "outputs": [],
   "source": []
  },
  {
   "cell_type": "code",
   "execution_count": null,
   "metadata": {},
   "outputs": [],
   "source": []
  },
  {
   "cell_type": "code",
   "execution_count": null,
   "metadata": {},
   "outputs": [],
   "source": []
  },
  {
   "cell_type": "code",
   "execution_count": null,
   "metadata": {},
   "outputs": [],
   "source": []
  },
  {
   "cell_type": "code",
   "execution_count": null,
   "metadata": {},
   "outputs": [],
   "source": []
  }
 ],
 "metadata": {
  "kernelspec": {
   "display_name": "venv-dl-1.0",
   "language": "python",
   "name": "python3"
  },
  "language_info": {
   "codemirror_mode": {
    "name": "ipython",
    "version": 3
   },
   "file_extension": ".py",
   "mimetype": "text/x-python",
   "name": "python",
   "nbconvert_exporter": "python",
   "pygments_lexer": "ipython3",
   "version": "3.9.18"
  }
 },
 "nbformat": 4,
 "nbformat_minor": 2
}

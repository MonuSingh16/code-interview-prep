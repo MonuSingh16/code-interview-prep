{
 "cells": [
  {
   "cell_type": "markdown",
   "metadata": {},
   "source": [
    "### Alphabetize String \n",
    "\n",
    "Sort a given string alphabetically.\n",
    "\n",
    "\n",
    "### Constraints\n",
    "\n",
    "1. The input variable string must be a string.\n",
    "2. There are no specific constraints on the length of the string.\n"
   ]
  },
  {
   "cell_type": "code",
   "execution_count": 1,
   "metadata": {},
   "outputs": [],
   "source": [
    "def alphabetize_string(string):\n",
    "    \"\"\"\n",
    "\n",
    "    \"\"\"\n",
    "    # separates each character, compare based on unicode value\n",
    "    # places them in ascending order in a list\n",
    "    sorted_chars = sorted(string)\n",
    "\n",
    "    # all items in iterbale, joins them\n",
    "    # since applied to empty string\n",
    "    return ''.join(sorted_chars)"
   ]
  },
  {
   "cell_type": "code",
   "execution_count": null,
   "metadata": {},
   "outputs": [],
   "source": []
  }
 ],
 "metadata": {
  "kernelspec": {
   "display_name": "Python 3",
   "language": "python",
   "name": "python3"
  },
  "language_info": {
   "codemirror_mode": {
    "name": "ipython",
    "version": 3
   },
   "file_extension": ".py",
   "mimetype": "text/x-python",
   "name": "python",
   "nbconvert_exporter": "python",
   "pygments_lexer": "ipython3",
   "version": "3.11.6"
  }
 },
 "nbformat": 4,
 "nbformat_minor": 2
}

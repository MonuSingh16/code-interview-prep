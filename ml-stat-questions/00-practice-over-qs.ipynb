{
 "cells": [
  {
   "cell_type": "code",
   "execution_count": 28,
   "metadata": {},
   "outputs": [
    {
     "name": "stdout",
     "output_type": "stream",
     "text": [
      "The output when we unpack ->  [1, 2, 3] [4, 5, 6]\n",
      "\n",
      "The ouput when we zip the unpacked list -> [(1, 4), (2, 5), (3, 6)]\n"
     ]
    },
    {
     "data": {
      "text/plain": [
       "[[1, 4], [2, 5], [3, 6]]"
      ]
     },
     "execution_count": 28,
     "metadata": {},
     "output_type": "execute_result"
    }
   ],
   "source": [
    "### Q1. Transpose a Matrix [LinearAlgebra]\n",
    "# Write a python function that computes the tranpose of a give matrix\n",
    "# The tranpose of a matrix is obtaned by flipping rows and columns\n",
    "\n",
    "a = [[1, 2, 3], [4, 5, 6]]\n",
    "#list(zip(*a)) # use to unpack operator * to the list\n",
    "print('The output when we unpack -> ', *a) # To unpack from list of list.\n",
    "print('\\nThe ouput when we zip the unpacked list ->', list(zip(*a))) # Zip the two list element wise\n",
    "[list(i) for i in zip(*a)] # comprehension"
   ]
  },
  {
   "cell_type": "code",
   "execution_count": null,
   "metadata": {},
   "outputs": [],
   "source": []
  }
 ],
 "metadata": {
  "kernelspec": {
   "display_name": "venv-dl-1.0",
   "language": "python",
   "name": "python3"
  },
  "language_info": {
   "codemirror_mode": {
    "name": "ipython",
    "version": 3
   },
   "file_extension": ".py",
   "mimetype": "text/x-python",
   "name": "python",
   "nbconvert_exporter": "python",
   "pygments_lexer": "ipython3",
   "version": "3.9.18"
  }
 },
 "nbformat": 4,
 "nbformat_minor": 2
}
